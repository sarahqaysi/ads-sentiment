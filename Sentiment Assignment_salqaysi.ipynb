{
 "cells": [
  {
   "cell_type": "markdown",
   "metadata": {},
   "source": [
    "# ADS 509 Sentiment Assignment - Sarah Alqaysi\n",
    "\n",
    "This notebook holds the Sentiment Assignment for Module 6 in ADS 509, Applied Text Mining. Work through this notebook, writing code and answering questions where required. \n",
    "\n",
    "In a previous assignment you put together Twitter data and lyrics data on two artists. In this assignment we apply sentiment analysis to those data sets. If, for some reason, you did not complete that previous assignment, data to use for this assignment can be found in the assignment materials section of Blackboard. \n"
   ]
  },
  {
   "cell_type": "markdown",
   "metadata": {},
   "source": [
    "## General Assignment Instructions\n",
    "\n",
    "These instructions are included in every assignment, to remind you of the coding standards for the class. Feel free to delete this cell after reading it. \n",
    "\n",
    "One sign of mature code is conforming to a style guide. We recommend the [Google Python Style Guide](https://google.github.io/styleguide/pyguide.html). If you use a different style guide, please include a cell with a link. \n",
    "\n",
    "Your code should be relatively easy-to-read, sensibly commented, and clean. Writing code is a messy process, so please be sure to edit your final submission. Remove any cells that are not needed or parts of cells that contain unnecessary code. Remove inessential `import` statements and make sure that all such statements are moved into the designated cell. \n",
    "\n",
    "Make use of non-code cells for written commentary. These cells should be grammatical and clearly written. In some of these cells you will have questions to answer. The questions will be marked by a \"Q:\" and will have a corresponding \"A:\" spot for you. *Make sure to answer every question marked with a `Q:` for full credit.* \n"
   ]
  },
  {
   "cell_type": "code",
   "execution_count": 1,
   "metadata": {},
   "outputs": [],
   "source": [
    "import warnings\n",
    "\n",
    "# Suppress warning messages\n",
    "warnings.filterwarnings('ignore')\n",
    "\n",
    "import os\n",
    "import re\n",
    "import emoji\n",
    "import pandas as pd\n",
    "import numpy as np\n",
    "\n",
    "from collections import Counter, defaultdict\n",
    "from string import punctuation\n",
    "\n",
    "from nltk.corpus import stopwords\n",
    "\n",
    "sw = stopwords.words(\"english\")"
   ]
  },
  {
   "cell_type": "code",
   "execution_count": 244,
   "metadata": {},
   "outputs": [],
   "source": [
    "# Add any additional import statements you need here\n",
    "\n",
    "import nltk\n",
    "import os\n",
    "import re\n",
    "import emoji\n",
    "import pandas as pd\n",
    "\n",
    "from nltk.corpus import stopwords\n",
    "from collections import Counter, defaultdict\n",
    "from nltk.corpus import stopwords\n",
    "from string import punctuation\n",
    "from sklearn.decomposition import TruncatedSVD\n"
   ]
  },
  {
   "cell_type": "code",
   "execution_count": 3,
   "metadata": {},
   "outputs": [],
   "source": [
    "# change `data_location` to the location of the folder on your machine.\n",
    "#data_location = \"/users/chandler/dropbox/teaching/repos/ads-tm-api-scrape/\"\n",
    "\n",
    "data_location = \"/UserData/z003cu8m/OneDrive - Siemens AG/Documents/Documents/Documents/Siemens/Computer Backup/Personal/MSADS/Text Mining/Week two/M1 Assignment Data/M1 Results/\"\n",
    "\n",
    "# These subfolders should still work if you correctly stored the \n",
    "# data from the Module 1 assignment\n",
    "twitter_folder = \"twitter/\"\n",
    "lyrics_folder = \"lyrics/\"\n",
    "\n",
    "positive_words_file = \"positive-words.txt\"\n",
    "negative_words_file = \"negative-words.txt\"\n",
    "tidy_text_file = \"tidytext_sentiments.txt\""
   ]
  },
  {
   "cell_type": "markdown",
   "metadata": {},
   "source": [
    "## Data Input\n",
    "\n",
    "Now read in each of the corpora. For the lyrics data, it may be convenient to store the entire contents of the file to make it easier to inspect the titles individually, as you'll do in the last part of the assignment. In the solution, I stored the lyrics data in a dictionary with two dimensions of keys: artist and song. The value was the file contents. A Pandas data frame would work equally well. \n",
    "\n",
    "For the Twitter data, we only need the description field for this assignment. Feel free all the descriptions read it into a data structure. In the solution, I stored the descriptions as a dictionary of lists, with the key being the artist. \n",
    "\n",
    "\n"
   ]
  },
  {
   "cell_type": "markdown",
   "metadata": {},
   "source": [
    "### Cher lyrics"
   ]
  },
  {
   "cell_type": "code",
   "execution_count": 52,
   "metadata": {},
   "outputs": [],
   "source": [
    "# Read in the lyrics data\n",
    "\n",
    "with open(\"C:/Users/z003cu8m/Desktop/cher_behindthedoor.txt\") as f:\n",
    "    cher_door = f.read()\n",
    "    #print(cher_door)\n",
    "    \n",
    "text_door = '''\n",
    "Behind the door of every house,\n",
    "In every street, in every town\n",
    "A story is unfolding\n",
    "A story is unfolding of love and hate\n",
    "The most of us wait of hopes and fears\n",
    "Of smiles and tears of dreams\n",
    "That lies a moldering\n",
    "\n",
    "Behind the door of every house,\n",
    "In every street, in every town\n",
    "The stage is set for playing\n",
    "The stage is set for playing\n",
    "And I call crime and punch your mime\n",
    "Sweet romance, a rich will dance\n",
    "Characters are playing\n",
    "\n",
    "Behind the door of every house,\n",
    "In every street, in every town\n",
    "The people are a waiting\n",
    "The people are a waiting\n",
    "To bare and die, the years go by\n",
    "The wedding spree the cruelty\n",
    "And still they go on mating\n",
    "\n",
    "And to the one the only one\n",
    "Remember when the need of man\n",
    "Is greater again\n",
    "The prayers take off ascending\n",
    "All filled of love to the one above\n",
    "Asking for asking for asking for asking for\n",
    "A happy ending a happy ending a happy ending'''"
   ]
  },
  {
   "cell_type": "code",
   "execution_count": 54,
   "metadata": {},
   "outputs": [],
   "source": [
    "with open(\"C:/Users/z003cu8m/Desktop/cher_alfie.txt\") as f:\n",
    "    cher_alife = f.read()\n",
    "    #print(cher_alife)\n",
    "\n",
    "text_alife = '''What's it all about, Alfie?\n",
    "\n",
    "Is it just for the moment we live?\n",
    "What's it all about when you sort it out, Alfie?\n",
    "Are we meant to take more than we give,\n",
    "Or are we meant to be kind?\n",
    "And if only fools are kind, Alfie\n",
    "Then I guess it is wise to be cruel.\n",
    "And if life belongs only to the strong, Alfie, \n",
    "Will you lend on an old golden rule?\n",
    "As sure as I believe, there's a heaven above, Alfie,\n",
    "I know there's something much more,\n",
    "Something even non-believers can believe in.\n",
    "I believe in love, Alfie.\n",
    "Without true love we just exist, Alfie.\n",
    "Until you've found the love you've missed\n",
    "You're nothing, Alfie.\n",
    "When you walk, let your heart lead the way.\n",
    "And you'll find love any day, Alfie.\n",
    "Alfie.'''"
   ]
  },
  {
   "cell_type": "code",
   "execution_count": 56,
   "metadata": {},
   "outputs": [],
   "source": [
    "with open(\"C:/Users/z003cu8m/Desktop/cher_afterall.txt\") as f:\n",
    "    cher_afterall = f.read()\n",
    "    #print(cher_afterall)\n",
    "    \n",
    "text_afterall = '''Well, here we are again\n",
    "I guess it must be fate\n",
    "We've tried it on our own\n",
    "But deep inside we've known\n",
    "We'd be back to set things straight\n",
    "I still remember when\n",
    "Your kiss was so brand new\n",
    "Every memory repeats\n",
    "Every step I take retreats\n",
    "Every journey always brings me back to you\n",
    "\n",
    "After all the stops and starts\n",
    "We keep coming back to these two hearts\n",
    "Two angels who've been rescued from the fall\n",
    "After all that we've been through\n",
    "It all comes down to me and you\n",
    "I guess it's meant to be forever you and me\n",
    "After all\n",
    "\n",
    "When love is truly right, it lives from year to year\n",
    "It changes as it goes and on the way it grows\n",
    "But it never disappears\n",
    "\n",
    "After all the stops and starts\n",
    "We keep coming back to these two hearts\n",
    "Two angels who've been rescued from the fall\n",
    "After all that we've been through\n",
    "It all comes down to me and you\n",
    "I guess it's meant to be forever you and me\n",
    "After all\n",
    "\n",
    "Always just beyond my touch\n",
    "You know I needed you so much\n",
    "After all, what else is living for?\n",
    "\n",
    "After all the stops and starts\n",
    "We keep coming back to these two hearts\n",
    "Two angels who've been rescued from the fall\n",
    "After all that we've been through\n",
    "It all comes down to me and you\n",
    "I guess it's meant to be forever you and me\n",
    "\n",
    "After all the stops and starts\n",
    "We keep coming back to these two hearts\n",
    "Two angels who've been rescued from the fall\n",
    "After all that we've been through\n",
    "It all comes down to me and you\n",
    "I guess it's meant to be forever you and me\n",
    "After all'''"
   ]
  },
  {
   "cell_type": "code",
   "execution_count": 65,
   "metadata": {},
   "outputs": [],
   "source": [
    "with open(\"C:/Users/z003cu8m/Desktop/cher_again.txt\") as f:\n",
    "    cher_again = f.read()\n",
    "    #print(cher_again)\n",
    "    \n",
    "text_again = '''Again evening finds me at your door \n",
    "Here to ask you just once more \n",
    "If we could try again \n",
    "I don't know quite what to say \n",
    "Never was too good that way \n",
    "So won't you help me again \n",
    "\n",
    "I don't know what made me leave \n",
    "If you just take me back you see \n",
    "How much I love you \n",
    "\n",
    "Again don't stand crying in the door \n",
    "If you believe your eyes once more \n",
    "You see I'll never lie again'''"
   ]
  },
  {
   "cell_type": "code",
   "execution_count": 60,
   "metadata": {},
   "outputs": [],
   "source": [
    "with open(\"C:/Users/z003cu8m/Desktop/cher_angelsrunning.txt\") as f:\n",
    "    cher_lyrics = f.read()\n",
    "    #print(cher_lyrics)\n",
    "    \n",
    "cher_text = \"\"\"Angels Running\"\n",
    "\n",
    "Well I heard enough \n",
    "And I've seen enough\n",
    "And I know anough to know \n",
    "I know a good thing when I see it\n",
    "And it's a bad thing to let go\n",
    "\n",
    "Weel I've been around \n",
    "I've been up and down \n",
    "Until I bailed out of control \n",
    "With your world all in motion\n",
    "Gonna put a ball\n",
    "And chain on your soul \n",
    "\n",
    "All those angels running \n",
    "Picking up the pieces \n",
    "Putting hearts togheter \n",
    "Broke long ago \n",
    "I know a good thing when I see it \n",
    "And it's a bad thing to let go \n",
    "\n",
    "We'll always be lovers \n",
    "With borders of there own \n",
    "And you may charge across \n",
    "In a golden chariot \n",
    "But you will never be at home \n",
    "\n",
    "'Cause I had dreams \n",
    "Like distant thunder\n",
    "I had hope like a prayer unheard \n",
    "This nothing less than perfect\n",
    "In a less than perfect world \n",
    "\n",
    "All those angles running \n",
    "Picking up the pieces \n",
    "Putting back togheter \n",
    "Hearts broke long ago \n",
    "I know a good thing when I see it \n",
    "And it's a bad thing to let go \n",
    "It's a bad thing to let go \n",
    "It's a bad thing.\"\"\""
   ]
  },
  {
   "cell_type": "code",
   "execution_count": 205,
   "metadata": {},
   "outputs": [],
   "source": [
    "# create your clean lyrics data here\n",
    "\n",
    "import regex as re\n",
    "\n",
    "from nltk.corpus import stopwords\n",
    "\n",
    "def tokenize(cher_text):\n",
    "    return re.findall(r'[\\w-]*\\p{L}[\\w-]*', text_cher_lyrics)\n",
    "\n",
    "stopwords = stopwords.words('english')\n",
    "\n",
    "tokens = cher_text.split()\n",
    "clean_tokens = [t for t in tokens if not t in stopwords]\n",
    "clean_cher_stopwords = \" \".join(clean_tokens)\n",
    "\n",
    "clean_cher_text = str.lower(clean_cher_stopwords)\n",
    "clean_cher_text = clean_cher_text.split()\n",
    "\n",
    "df_cher = pd.DataFrame(clean_cher_text)\n",
    "df_cher.columns =['lyrics_words']\n",
    "#df_cher.head(10)\n",
    "\n",
    "\n",
    "def tokenize(text_door):\n",
    "    return re.findall(r'[\\w-]*\\p{L}[\\w-]*', text_door_lyrics)\n",
    "\n",
    "tokens_door = text_door.split()\n",
    "clean_tokens_door = [t for t in tokens_door if not t in stopwords]\n",
    "clean_door_stopwords = \" \".join(clean_tokens_door)\n",
    "\n",
    "clean_door_text = str.lower(clean_door_stopwords)\n",
    "clean_door_text = clean_door_text.split()\n",
    "\n",
    "df_door = pd.DataFrame(clean_door_text)\n",
    "df_door.columns =['lyrics_door']\n",
    "#df_door.head(10)\n",
    "\n",
    "\n",
    "def tokenize(text_alife):\n",
    "    return re.findall(r'[\\w-]*\\p{L}[\\w-]*', text_alife_lyrics)\n",
    "\n",
    "tokens_alife = text_alife.split()\n",
    "clean_tokens_alife = [t for t in tokens_alife if not t in stopwords]\n",
    "clean_alife_stopwords = \" \".join(clean_tokens_alife)\n",
    "\n",
    "clean_alife_text = str.lower(clean_alife_stopwords)\n",
    "clean_alife_text = clean_alife_text.split()\n",
    "\n",
    "df_alife = pd.DataFrame(clean_alife_text)\n",
    "df_alife.columns =['lyrics_alife']\n",
    "#df_alife.head(10)\n",
    "\n",
    "\n",
    "def tokenize(text_afterall):\n",
    "    return re.findall(r'[\\w-]*\\p{L}[\\w-]*', text_afterall_lyrics)\n",
    "\n",
    "tokens_afterall = text_afterall.split()\n",
    "clean_tokens_afterall = [t for t in tokens_afterall if not t in stopwords]\n",
    "clean_afterall_stopwords = \" \".join(clean_tokens_afterall)\n",
    "\n",
    "clean_afterall_text = str.lower(clean_afterall_stopwords)\n",
    "clean_afterall_text = clean_afterall_text.split()\n",
    "\n",
    "df_afterall = pd.DataFrame(clean_afterall_text)\n",
    "df_afterall.columns =['lyrics_afterall']\n",
    "#df_afterall.head(10)\n",
    "\n",
    "\n",
    "def tokenize(text_again):\n",
    "    return re.findall(r'[\\w-]*\\p{L}[\\w-]*', text_again_lyrics)\n",
    "\n",
    "tokens_again = text_again.split()\n",
    "clean_tokens_again = [t for t in tokens_again if not t in stopwords]\n",
    "clean_again_stopwords = \" \".join(clean_tokens_again)\n",
    "\n",
    "clean_again_text = str.lower(clean_again_stopwords)\n",
    "clean_again_text = clean_again_text.split()\n",
    "\n",
    "df_again = pd.DataFrame(clean_again_text)\n",
    "df_again.columns =['lyrics_again']\n",
    "#df_again.head(10)"
   ]
  },
  {
   "cell_type": "markdown",
   "metadata": {},
   "source": [
    "### Robyn lyrics"
   ]
  },
  {
   "cell_type": "code",
   "execution_count": 189,
   "metadata": {
    "scrolled": true
   },
   "outputs": [],
   "source": [
    "with open(\"C:/Users/z003cu8m/Desktop/robyn_anytimeyoulike.txt\") as f:\n",
    "    robyn_anytime = f.read()\n",
    "    #print(robyn_lyrics)\n",
    "    \n",
    "text_anytime = '''It's like you're waiting for me to start\n",
    "There's no right moment to break my heart\n",
    "Boy you can tell me any time you like\n",
    "\n",
    "We could talk any day of the week\n",
    "I cry myself to sleep in my pink silk sheets\n",
    "Boy you can tell me any time you like\n",
    "Boy you can tell me any time you like\n",
    "\n",
    "Under pressure, alright\n",
    "Under pressure, you and I\n",
    "Under pressure, love is uptight\n",
    "Under pressure, yeah\n",
    "\n",
    "I keep quiet and hope you forget\n",
    "You know that kitchen table, let's buy it\n",
    "Boy you can tell me anytime you like, anytime\n",
    "\n",
    "If I was brave I wouldn't keep my mouth shut\n",
    "But I'm selfish, I don't wanna give you up\n",
    "Boy you can tell me anytime you like\n",
    "Boy you can tell me anytime you like\n",
    "\n",
    "Under pressure, alright\n",
    "Under pressure, you and I\n",
    "Under pressure, love is uptight\n",
    "Under pressure, yeah\n",
    "Under pressure, yeah\n",
    "Under pressure, alright\n",
    "Under pressure, you and I\n",
    "Under pressure, this love is uptight\n",
    "Under pressure, yeah\n",
    "\n",
    "Hey baby\n",
    "(How ya doin'?)\n",
    "How was your day?\n",
    "What ya doin'?\n",
    "(I said I love you)\n",
    "What ya thinkin' about?\n",
    "(What ya thinkin' about?)\n",
    "Tell me what's on your mind\n",
    "Won't you tell me what's on your mind\n",
    "I love you so much, mhmm\n",
    "\n",
    "Boy you can tell me...\n",
    "Boy you can tell me any time you like\n",
    "'''"
   ]
  },
  {
   "cell_type": "code",
   "execution_count": 192,
   "metadata": {},
   "outputs": [],
   "source": [
    "with open(\"C:/Users/z003cu8m/Desktop/robyn_blowmymind.txt\") as f:\n",
    "    robyn_mind = f.read()\n",
    "    #print(robyn_mind)\n",
    "    \n",
    "text_mind = '''Straight up from my heart you're my number one\n",
    "And hey here's the part I'm still having fun\n",
    "It's like you're the cloud underneath my feat\n",
    "And you're the reason that breathe\n",
    "\n",
    "Because you blow my mind\n",
    "Because you blow my mind\n",
    "And the way you're talking baby you're so cool\n",
    "I'll do anything for you...\n",
    "\n",
    "Hey baby ravish me, love me till it hurts\n",
    "Don't you dare to leave , button down my skirt\n",
    "Kiss me quick I'm about to burst , patience ain't my thing\n",
    "And you're the reason that I sing\n",
    "\n",
    "Because you blow my mind\n",
    "Because you blow my mind\n",
    "And the way you're talking baby you're so cool\n",
    "I'll do anything for you...\n",
    "\n",
    "Unbelievable, ooo it's such a rush\n",
    "So incredible, boy you make me blush\n",
    "Just keep doing it , throw me into space \n",
    "And I'll be floating there for days\n",
    "\n",
    "Because you blow my mind\n",
    "Because you blow my mind\n",
    "And the way you're talking baby you're so cool\n",
    "I'll do anything for you...'''"
   ]
  },
  {
   "cell_type": "code",
   "execution_count": 194,
   "metadata": {},
   "outputs": [],
   "source": [
    "with open(\"C:/Users/z003cu8m/Desktop/robyn_obaby.txt\") as f:\n",
    "    robyn_baby = f.read()\n",
    "    #print(robyn_baby)\n",
    "    \n",
    "text_baby = '''[Chorus:]\n",
    "O baby you're making that mistake again oh why\n",
    "O don't you understand, everytime you do you make me cry\n",
    "\n",
    "I see those tears and it hurts so much each time you say you're sorry\n",
    "cause no more words or regretful touch could change the way I'm feeling\n",
    "You're doing me wrong again and again you say that you will but you won't\n",
    "\n",
    "[Chorus]\n",
    "\n",
    "I stayed up late every lonely night waiting for you to call me\n",
    "I used to think if I gave you time ooo baby you'd find a way to make it right\n",
    "You're doing me wrong again and again you say that you will but you won't \n",
    "\n",
    "[Chorus]\n",
    "\n",
    "Don't explain and don't ask me why oh baby please stop crying\n",
    "We've been through this one too many times so baby don't you put me there again\n",
    "Cause no matter how hard I try to believe this tiem I know that I won't \n",
    "\n",
    "[Chorus]\n",
    "\n",
    "Don't wonder why, baby don't cry, let's say goodbye'''"
   ]
  },
  {
   "cell_type": "code",
   "execution_count": 197,
   "metadata": {},
   "outputs": [],
   "source": [
    "with open(\"C:/Users/z003cu8m/Desktop/robyn_play.txt\") as f:\n",
    "    robyn_play = f.read()\n",
    "    #print(robyn_play)\n",
    "    \n",
    "text_play = '''Um Um\n",
    "Some people live their lives by the book,\n",
    "Some people are too scared to even look,\n",
    "Some people don't even really care,\n",
    "Nooo,\n",
    "I'm not a woman yet still not a child,\n",
    "So what am I suppose to do with my life,\n",
    "It doesn't fit me anymore,\n",
    "Not yet,\n",
    "Right now, \n",
    "\n",
    "[Chorus]\n",
    "When too many of us has forgot, \n",
    "What our lives is all about, \n",
    "Care too much about what other people say,\n",
    "Ah yeah, \n",
    "But your heart will never grow old,\n",
    "And your mind will never ever get bigger if you remember how to play,\n",
    "\n",
    "Some people seek other's extreme too scared of their own inner hive,\n",
    "Some people never asked themselves why,\n",
    "No, No,\n",
    "I will never try to hide behind myself,\n",
    "I will never try to be somebody else,\n",
    "It wouldn't do me any good,\n",
    "Not yet,\n",
    "Right now,\n",
    "\n",
    "[Chorus]\n",
    "\n",
    "Yeah'\n",
    "Say yeah, \n",
    "Say yeah, \n",
    "Say yeah, \n",
    "Say yeah' yeah' yeah' yeah' yeah'\n",
    "\n",
    "[Chorus]\n",
    "\n",
    "Say, \n",
    "If you remember how to play,\n",
    "Say yeah, yeah, yeah, yeah\n",
    "Yeah'yeah'yeah'yeah'''"
   ]
  },
  {
   "cell_type": "code",
   "execution_count": 199,
   "metadata": {},
   "outputs": [],
   "source": [
    "with open(\"C:/Users/z003cu8m/Desktop/robyn_tellyoutoday.txt\") as f:\n",
    "    robyn_tell = f.read()\n",
    "    #print(robyn_tell)\n",
    "    \n",
    "text_tell = '''Tell you\n",
    "Tell you Tell you Tell you Tell you Tell you Tell you Tell you Tell you Tell you Tell you Tell you\n",
    "\n",
    "Walking down the street\n",
    "I knew it was my chance\n",
    "Chance today\n",
    "New shoes on my feet\n",
    "I thought that they could dance\n",
    "Dance away\n",
    "\n",
    "Makes me come alive, I remember\n",
    "A look of sadness on your face\n",
    "That was before\n",
    "I want to tell you today\n",
    "I want to tell you today\n",
    "I want to tell you today\n",
    "I want to tell you today\n",
    "\n",
    "On my way to work\n",
    "I said your name again\n",
    "Again today\n",
    "\n",
    "There was just a word\n",
    "I only feel it when\n",
    "When I say\n",
    "\n",
    "Makes me come alive, I remember\n",
    "A look of sadness on your face\n",
    "That was before\n",
    "I want to tell you today\n",
    "I want to tell you today\n",
    "I want to tell you today\n",
    "I want to tell you today\n",
    "'''"
   ]
  },
  {
   "cell_type": "code",
   "execution_count": 219,
   "metadata": {},
   "outputs": [],
   "source": [
    "# create your clean lyrics data here\n",
    "\n",
    "import regex as re\n",
    "\n",
    "from nltk.corpus import stopwords\n",
    "\n",
    "\n",
    "def tokenize(text_anytime):\n",
    "    return re.findall(r'[\\w-]*\\p{L}[\\w-]*', text_anytime_lyrics)\n",
    "\n",
    "stopwords = stopwords.words('english')\n",
    "\n",
    "tokens_anytime = text_anytime.split()\n",
    "clean_tokens_anytime = [t for t in tokens_anytime if not t in stopwords]\n",
    "clean_anytime_stopwords = \" \".join(clean_tokens_anytime)\n",
    "\n",
    "clean_text_anytime = str.lower(clean_anytime_stopwords)\n",
    "clean_text_anytime = clean_text_anytime.split()\n",
    "\n",
    "df_anytime = pd.DataFrame(clean_text_anytime)\n",
    "df_anytime.columns =['lyrics_anytime']\n",
    "#df_anytime.head(10)\n",
    "\n",
    "\n",
    "\n",
    "def tokenize(text_mind):\n",
    "    return re.findall(r'[\\w-]*\\p{L}[\\w-]*', text_mind_lyrics)\n",
    "\n",
    "#stopwords = stopwords.words('english')\n",
    "\n",
    "tokens_mind = text_mind.split()\n",
    "clean_tokens_mind = [t for t in tokens_mind if not t in stopwords]\n",
    "clean_mind_stopwords = \" \".join(clean_tokens_mind)\n",
    "\n",
    "clean_text_mind = str.lower(clean_mind_stopwords)\n",
    "clean_text_mind = clean_text_mind.split()\n",
    "\n",
    "df_mind = pd.DataFrame(clean_text_mind)\n",
    "df_mind.columns =['lyrics_mind']\n",
    "#df_mind.head(10)\n",
    "\n",
    "\n",
    "def tokenize(text_baby):\n",
    "    return re.findall(r'[\\w-]*\\p{L}[\\w-]*', text_baby_lyrics)\n",
    "\n",
    "#stopwords = stopwords.words('english')\n",
    "\n",
    "tokens_baby = text_baby.split()\n",
    "clean_tokens_baby = [t for t in tokens_baby if not t in stopwords]\n",
    "clean_baby_stopwords = \" \".join(clean_tokens_baby)\n",
    "\n",
    "clean_text_baby = str.lower(clean_baby_stopwords)\n",
    "clean_text_baby = clean_text_baby.split()\n",
    "\n",
    "df_baby = pd.DataFrame(clean_text_baby)\n",
    "df_baby.columns =['lyrics_baby']\n",
    "#df_baby.head(10)\n",
    "\n",
    "\n",
    "\n",
    "def tokenize(text_play):\n",
    "    return re.findall(r'[\\w-]*\\p{L}[\\w-]*', text_play_lyrics)\n",
    "\n",
    "#stopwords = stopwords.words('english')\n",
    "\n",
    "tokens_play = text_play.split()\n",
    "clean_tokens_play = [t for t in tokens_play if not t in stopwords]\n",
    "clean_play_stopwords = \" \".join(clean_tokens_play)\n",
    "\n",
    "clean_text_play = str.lower(clean_play_stopwords)\n",
    "clean_text_play = clean_text_play.split()\n",
    "\n",
    "df_play = pd.DataFrame(clean_text_play)\n",
    "df_play.columns =['lyrics_play']\n",
    "#df_play.head(10)\n",
    "\n",
    "\n",
    "def tokenize(text_tell):\n",
    "    return re.findall(r'[\\w-]*\\p{L}[\\w-]*', text_tell_lyrics)\n",
    "\n",
    "#stopwords = stopwords.words('english')\n",
    "\n",
    "tokens_tell = text_tell.split()\n",
    "clean_tokens_tell = [t for t in tokens_tell if not t in stopwords]\n",
    "clean_tell_stopwords = \" \".join(clean_tokens_tell)\n",
    "\n",
    "clean_text_tell = str.lower(clean_tell_stopwords)\n",
    "clean_text_tell = clean_text_tell.split()\n",
    "\n",
    "df_tell = pd.DataFrame(clean_text_tell)\n",
    "df_tell.columns =['lyrics_tell']\n",
    "#df_tell.head(10)"
   ]
  },
  {
   "cell_type": "markdown",
   "metadata": {},
   "source": [
    "# Read in the twitter data"
   ]
  },
  {
   "cell_type": "code",
   "execution_count": 239,
   "metadata": {},
   "outputs": [],
   "source": [
    "# Feel free to use the below cells as an example or read in the data in a way you prefer\n",
    "\n",
    "data_location = \"/UserData/z003cu8m/OneDrive - Siemens AG/Documents/Documents/Documents/Siemens/Computer Backup/Personal/MSADS/Text Mining/Week three/M1 Assignment Data/M1 Results/\" # change to your location if it is not in the same directory as your notebook\n",
    "twitter_folder = \"twitter/\"\n",
    "lyrics_folder = \"lyrics/\"\n",
    "\n",
    "artist_files = {'cher':'cher_followers_data.txt',\n",
    "                'robyn':'robynkonichiwa_followers_data.txt'}\n"
   ]
  },
  {
   "cell_type": "code",
   "execution_count": 240,
   "metadata": {},
   "outputs": [],
   "source": [
    "twitter_cher = pd.read_csv(data_location + twitter_folder + artist_files['cher'],\n",
    "                           sep=\"\\t\",\n",
    "                           quoting=3)\n",
    "\n",
    "twitter_cher['artist'] = \"cher\""
   ]
  },
  {
   "cell_type": "code",
   "execution_count": 241,
   "metadata": {},
   "outputs": [],
   "source": [
    "twitter_robyn = pd.read_csv(data_location + twitter_folder + artist_files['robyn'],\n",
    "                             sep=\"\\t\",\n",
    "                             quoting=3)\n",
    "twitter_robyn['artist'] = \"robyn\""
   ]
  },
  {
   "cell_type": "code",
   "execution_count": 245,
   "metadata": {},
   "outputs": [],
   "source": [
    "# Place any addtional functions or constants you need here. \n",
    "\n",
    "# Some punctuation variations\n",
    "punctuation = set(punctuation) # speeds up comparison\n",
    "tw_punct = punctuation - {\"#\"}\n",
    "\n",
    "# Stopwords\n",
    "\n",
    "from nltk.corpus import stopwords\n",
    "\n",
    "sw = stopwords.words(\"english\")\n",
    "\n",
    "# Two useful regex\n",
    "whitespace_pattern = re.compile(r\"\\s+\")\n",
    "hashtag_pattern = re.compile(r\"^#[0-9a-zA-Z]+\")\n",
    "\n",
    "# It's handy to have a full set of emojis\n",
    "all_language_emojis = set()\n",
    "\n",
    "for country in emoji.UNICODE_EMOJI : \n",
    "    for em in emoji.UNICODE_EMOJI[country] : \n",
    "        all_language_emojis.add(em)\n",
    "\n",
    "# and now our functions\n",
    "def descriptive_stats(tokens, num_tokens = 5, verbose=True) :\n",
    "    \"\"\"\n",
    "        Given a list of tokens, print number of tokens, number of unique tokens, \n",
    "        number of characters, lexical diversity, and num_tokens most common\n",
    "        tokens. Return a list of \n",
    "    \"\"\"\n",
    "\n",
    "    # Place your Module 2 solution here\n",
    "    \n",
    "    return(0)\n",
    "\n",
    "\n",
    "    \n",
    "def is_emoji(s):\n",
    "    return(s in all_language_emojis)\n",
    "\n",
    "def contains_emoji(s):\n",
    "    \n",
    "    s = str(s)\n",
    "    emojis = [ch for ch in s if is_emoji(ch)]\n",
    "\n",
    "    return(len(emojis) > 0)\n",
    "\n",
    "\n",
    "def remove_stop(tokens) :\n",
    "    # modify this function to remove stopwords\n",
    "    return(tokens)\n",
    " \n",
    "def remove_punctuation(text, punct_set=tw_punct) : \n",
    "    return(\"\".join([ch for ch in text if ch not in punct_set]))\n",
    "\n",
    "def tokenize(text) : \n",
    "    \"\"\" Splitting on whitespace rather than the book's tokenize function. That \n",
    "        function will drop tokens like '#hashtag' or '2A', which we need for Twitter. \"\"\"\n",
    "    \n",
    "    # modify this function to return tokens\n",
    "    return(text)\n",
    "\n",
    "def prepare(text, pipeline) : \n",
    "    tokens = str(text)\n",
    "    \n",
    "    for transform in pipeline : \n",
    "        tokens = transform(tokens)\n",
    "        \n",
    "    return(tokens)\n"
   ]
  },
  {
   "cell_type": "code",
   "execution_count": 246,
   "metadata": {},
   "outputs": [],
   "source": [
    "# apply the `pipeline` techniques from BTAP Ch 1 or 5\n",
    "\n",
    "my_pipeline = [str.lower, remove_punctuation, tokenize, remove_stop]\n",
    "\n",
    "twitter_cher[\"tokens\"] = twitter_cher[\"description\"].apply(prepare,pipeline=my_pipeline)\n",
    "twitter_cher[\"num_tokens\"] = twitter_cher[\"tokens\"].map(len) \n",
    "\n",
    "twitter_robyn[\"tokens\"] = twitter_robyn[\"description\"].apply(prepare,pipeline=my_pipeline)\n",
    "twitter_robyn[\"num_tokens\"] = twitter_robyn[\"tokens\"].map(len) "
   ]
  },
  {
   "cell_type": "code",
   "execution_count": 247,
   "metadata": {},
   "outputs": [],
   "source": [
    "# cher\n",
    "twitter_cher['has_emoji'] = twitter_cher[\"description\"].apply(contains_emoji)\n",
    "\n",
    "# robyn\n",
    "twitter_robyn['has_emoji'] = twitter_robyn[\"description\"].apply(contains_emoji)"
   ]
  },
  {
   "cell_type": "code",
   "execution_count": 259,
   "metadata": {},
   "outputs": [
    {
     "data": {
      "text/html": [
       "<div>\n",
       "<style scoped>\n",
       "    .dataframe tbody tr th:only-of-type {\n",
       "        vertical-align: middle;\n",
       "    }\n",
       "\n",
       "    .dataframe tbody tr th {\n",
       "        vertical-align: top;\n",
       "    }\n",
       "\n",
       "    .dataframe thead th {\n",
       "        text-align: right;\n",
       "    }\n",
       "</style>\n",
       "<table border=\"1\" class=\"dataframe\">\n",
       "  <thead>\n",
       "    <tr style=\"text-align: right;\">\n",
       "      <th></th>\n",
       "      <th>artist</th>\n",
       "      <th>description</th>\n",
       "      <th>tokens</th>\n",
       "    </tr>\n",
       "  </thead>\n",
       "  <tbody>\n",
       "    <tr>\n",
       "      <th>470661</th>\n",
       "      <td>cher</td>\n",
       "      <td>20😱,she/her, shy, pan🏳️‍🌈. ❤️’s music, kpop, M...</td>\n",
       "      <td>20😱sheher shy pan🏳️‍🌈 ❤️’s music kpop multista...</td>\n",
       "    </tr>\n",
       "    <tr>\n",
       "      <th>608685</th>\n",
       "      <td>cher</td>\n",
       "      <td>Eternal love, the stars above, all there is an...</td>\n",
       "      <td>eternal love the stars above all there is and ...</td>\n",
       "    </tr>\n",
       "    <tr>\n",
       "      <th>2586128</th>\n",
       "      <td>cher</td>\n",
       "      <td>Peter Andre follows :). Matt Goss follows :) C...</td>\n",
       "      <td>peter andre follows  matt goss follows  chesne...</td>\n",
       "    </tr>\n",
       "    <tr>\n",
       "      <th>1437593</th>\n",
       "      <td>cher</td>\n",
       "      <td>We are just two friends trying to navigate thi...</td>\n",
       "      <td>we are just two friends trying to navigate thi...</td>\n",
       "    </tr>\n",
       "    <tr>\n",
       "      <th>313010</th>\n",
       "      <td>cher</td>\n",
       "      <td>Looking for #GoodTrouble. DJT and the GOP are ...</td>\n",
       "      <td>looking for #goodtrouble djt and the gop are s...</td>\n",
       "    </tr>\n",
       "  </tbody>\n",
       "</table>\n",
       "</div>"
      ],
      "text/plain": [
       "        artist                                        description  \\\n",
       "470661    cher  20😱,she/her, shy, pan🏳️‍🌈. ❤️’s music, kpop, M...   \n",
       "608685    cher  Eternal love, the stars above, all there is an...   \n",
       "2586128   cher  Peter Andre follows :). Matt Goss follows :) C...   \n",
       "1437593   cher  We are just two friends trying to navigate thi...   \n",
       "313010    cher  Looking for #GoodTrouble. DJT and the GOP are ...   \n",
       "\n",
       "                                                    tokens  \n",
       "470661   20😱sheher shy pan🏳️‍🌈 ❤️’s music kpop multista...  \n",
       "608685   eternal love the stars above all there is and ...  \n",
       "2586128  peter andre follows  matt goss follows  chesne...  \n",
       "1437593  we are just two friends trying to navigate thi...  \n",
       "313010   looking for #goodtrouble djt and the gop are s...  "
      ]
     },
     "execution_count": 259,
     "metadata": {},
     "output_type": "execute_result"
    }
   ],
   "source": [
    "# cher\n",
    "df_twitter_cher = twitter_cher[twitter_cher.has_emoji].sample(20)[[\"artist\",\"description\",\"tokens\"]]\n",
    "df_twitter_cher.head()"
   ]
  },
  {
   "cell_type": "code",
   "execution_count": 332,
   "metadata": {},
   "outputs": [
    {
     "data": {
      "text/html": [
       "<div>\n",
       "<style scoped>\n",
       "    .dataframe tbody tr th:only-of-type {\n",
       "        vertical-align: middle;\n",
       "    }\n",
       "\n",
       "    .dataframe tbody tr th {\n",
       "        vertical-align: top;\n",
       "    }\n",
       "\n",
       "    .dataframe thead th {\n",
       "        text-align: right;\n",
       "    }\n",
       "</style>\n",
       "<table border=\"1\" class=\"dataframe\">\n",
       "  <thead>\n",
       "    <tr style=\"text-align: right;\">\n",
       "      <th></th>\n",
       "      <th>artist</th>\n",
       "      <th>description</th>\n",
       "      <th>tokens</th>\n",
       "    </tr>\n",
       "  </thead>\n",
       "  <tbody>\n",
       "    <tr>\n",
       "      <th>155956</th>\n",
       "      <td>robyn</td>\n",
       "      <td>♬ •♩ ·.·´¯`·.·♭•♪ ίλɱ λħɱεɖ κλßιλɴ ʃરΘɱ ιίßϓλ ...</td>\n",
       "      <td>♬ •♩ ··´¯··♭•♪ ίλɱ λħɱεɖ κλßιλɴ ʃરθɱ ιίßϓλ 《ßθ...</td>\n",
       "    </tr>\n",
       "    <tr>\n",
       "      <th>1833</th>\n",
       "      <td>robyn</td>\n",
       "      <td>he/him, Newtown, 20, Libra 🌈</td>\n",
       "      <td>hehim newtown 20 libra 🌈</td>\n",
       "    </tr>\n",
       "    <tr>\n",
       "      <th>193571</th>\n",
       "      <td>robyn</td>\n",
       "      <td>Esas segundas oportunidades que se convierten ...</td>\n",
       "      <td>esas segundas oportunidades que se convierten ...</td>\n",
       "    </tr>\n",
       "    <tr>\n",
       "      <th>3959</th>\n",
       "      <td>robyn</td>\n",
       "      <td>♎️♍️♋️</td>\n",
       "      <td>♎️♍️♋️</td>\n",
       "    </tr>\n",
       "    <tr>\n",
       "      <th>86387</th>\n",
       "      <td>robyn</td>\n",
       "      <td>I like pro wrestling and Harry Styles💞</td>\n",
       "      <td>i like pro wrestling and harry styles💞</td>\n",
       "    </tr>\n",
       "  </tbody>\n",
       "</table>\n",
       "</div>"
      ],
      "text/plain": [
       "       artist                                        description  \\\n",
       "155956  robyn  ♬ •♩ ·.·´¯`·.·♭•♪ ίλɱ λħɱεɖ κλßιλɴ ʃરΘɱ ιίßϓλ ...   \n",
       "1833    robyn                       he/him, Newtown, 20, Libra 🌈   \n",
       "193571  robyn  Esas segundas oportunidades que se convierten ...   \n",
       "3959    robyn                                             ♎️♍️♋️   \n",
       "86387   robyn             I like pro wrestling and Harry Styles💞   \n",
       "\n",
       "                                                   tokens  \n",
       "155956  ♬ •♩ ··´¯··♭•♪ ίλɱ λħɱεɖ κλßιλɴ ʃરθɱ ιίßϓλ 《ßθ...  \n",
       "1833                             hehim newtown 20 libra 🌈  \n",
       "193571  esas segundas oportunidades que se convierten ...  \n",
       "3959                                               ♎️♍️♋️  \n",
       "86387              i like pro wrestling and harry styles💞  "
      ]
     },
     "execution_count": 332,
     "metadata": {},
     "output_type": "execute_result"
    }
   ],
   "source": [
    "# robyn\n",
    "df_twitter_robyn = twitter_robyn[twitter_robyn.has_emoji].sample(20)[[\"artist\",\"description\",\"tokens\"]]\n",
    "df_twitter_robyn.head()"
   ]
  },
  {
   "cell_type": "code",
   "execution_count": 76,
   "metadata": {},
   "outputs": [],
   "source": [
    "import nltk\n",
    "#nltk.download('opinion_lexicon')"
   ]
  },
  {
   "cell_type": "code",
   "execution_count": 81,
   "metadata": {},
   "outputs": [
    {
     "name": "stdout",
     "output_type": "stream",
     "text": [
      "Total number of words in opinion lexicon 6789\n",
      "Examples of positive words in opinion lexicon ['a+', 'abound', 'abounds', 'abundance', 'abundant']\n",
      "Examples of negative words in opinion lexicon ['2-faced', '2-faces', 'abnormal', 'abolish', 'abominable']\n"
     ]
    }
   ],
   "source": [
    "from nltk.corpus import opinion_lexicon\n",
    "from nltk.tokenize import word_tokenize\n",
    "\n",
    "print('Total number of words in opinion lexicon', len(opinion_lexicon.words()))\n",
    "print('Examples of positive words in opinion lexicon',\n",
    "      opinion_lexicon.positive()[:5])\n",
    "print('Examples of negative words in opinion lexicon',\n",
    "      opinion_lexicon.negative()[:5])"
   ]
  },
  {
   "cell_type": "code",
   "execution_count": 82,
   "metadata": {},
   "outputs": [],
   "source": [
    "# Let's create a dictionary which we can use for scoring our review text\n",
    "# Please uncomment this line the first-time you run this code to download the vocabulary from nltk ###\n",
    "### nltk.download('punkt') ###\n",
    "\n",
    "twitter_cher.rename(columns={'description': 'text'}, inplace=True)\n",
    "pos_score = 1\n",
    "neg_score = -1\n",
    "word_dict = {}\n",
    "\n",
    "# Adding the positive words to the dictionary\n",
    "for word in opinion_lexicon.positive():\n",
    "        word_dict[word] = pos_score\n",
    "        \n",
    "# Adding the negative words to the dictionary\n",
    "for word in opinion_lexicon.negative():\n",
    "        word_dict[word] = neg_score\n",
    "        \n",
    "def bing_liu_score(text):\n",
    "    sentiment_score = 0\n",
    "    bag_of_words = word_tokenize(text.lower())\n",
    "    for word in bag_of_words:\n",
    "        if word in word_dict:\n",
    "            sentiment_score += word_dict[word]\n",
    "    return sentiment_score / len(bag_of_words)"
   ]
  },
  {
   "cell_type": "code",
   "execution_count": 349,
   "metadata": {},
   "outputs": [],
   "source": [
    "# Read in the positive and negative words and the\n",
    "# tidytext sentiment. Store these so that the positive\n",
    "# words are associated with a score of +1 and negative words\n",
    "# are associated with a score of -1. You can use a dataframe or a \n",
    "# dictionary for this."
   ]
  },
  {
   "cell_type": "code",
   "execution_count": 66,
   "metadata": {},
   "outputs": [
    {
     "name": "stderr",
     "output_type": "stream",
     "text": [
      "b'Skipping line 10: expected 1 fields, saw 2\\nSkipping line 14: expected 1 fields, saw 5\\nSkipping line 15: expected 1 fields, saw 3\\nSkipping line 16: expected 1 fields, saw 2\\nSkipping line 18: expected 1 fields, saw 3\\nSkipping line 19: expected 1 fields, saw 3\\nSkipping line 27: expected 1 fields, saw 3\\nSkipping line 28: expected 1 fields, saw 2\\n'\n"
     ]
    },
    {
     "data": {
      "text/html": [
       "<div>\n",
       "<style scoped>\n",
       "    .dataframe tbody tr th:only-of-type {\n",
       "        vertical-align: middle;\n",
       "    }\n",
       "\n",
       "    .dataframe tbody tr th {\n",
       "        vertical-align: top;\n",
       "    }\n",
       "\n",
       "    .dataframe thead th {\n",
       "        text-align: right;\n",
       "    }\n",
       "</style>\n",
       "<table border=\"1\" class=\"dataframe\">\n",
       "  <thead>\n",
       "    <tr style=\"text-align: right;\">\n",
       "      <th></th>\n",
       "      <th>text</th>\n",
       "      <th>Bing_Liu_Score</th>\n",
       "    </tr>\n",
       "  </thead>\n",
       "  <tbody>\n",
       "    <tr>\n",
       "      <th>1465</th>\n",
       "      <td>recommended</td>\n",
       "      <td>1.0</td>\n",
       "    </tr>\n",
       "    <tr>\n",
       "      <th>229</th>\n",
       "      <td>bless</td>\n",
       "      <td>1.0</td>\n",
       "    </tr>\n",
       "    <tr>\n",
       "      <th>1887</th>\n",
       "      <td>uncomplicated</td>\n",
       "      <td>1.0</td>\n",
       "    </tr>\n",
       "    <tr>\n",
       "      <th>511</th>\n",
       "      <td>ecstatically</td>\n",
       "      <td>1.0</td>\n",
       "    </tr>\n",
       "    <tr>\n",
       "      <th>1432</th>\n",
       "      <td>quiet</td>\n",
       "      <td>1.0</td>\n",
       "    </tr>\n",
       "    <tr>\n",
       "      <th>781</th>\n",
       "      <td>fortitude</td>\n",
       "      <td>1.0</td>\n",
       "    </tr>\n",
       "    <tr>\n",
       "      <th>1103</th>\n",
       "      <td>leverage</td>\n",
       "      <td>1.0</td>\n",
       "    </tr>\n",
       "    <tr>\n",
       "      <th>361</th>\n",
       "      <td>congenial</td>\n",
       "      <td>1.0</td>\n",
       "    </tr>\n",
       "    <tr>\n",
       "      <th>674</th>\n",
       "      <td>exquisite</td>\n",
       "      <td>1.0</td>\n",
       "    </tr>\n",
       "    <tr>\n",
       "      <th>536</th>\n",
       "      <td>elevate</td>\n",
       "      <td>1.0</td>\n",
       "    </tr>\n",
       "  </tbody>\n",
       "</table>\n",
       "</div>"
      ],
      "text/plain": [
       "               text  Bing_Liu_Score\n",
       "1465    recommended             1.0\n",
       "229           bless             1.0\n",
       "1887  uncomplicated             1.0\n",
       "511    ecstatically             1.0\n",
       "1432          quiet             1.0\n",
       "781       fortitude             1.0\n",
       "1103       leverage             1.0\n",
       "361       congenial             1.0\n",
       "674       exquisite             1.0\n",
       "536         elevate             1.0"
      ]
     },
     "execution_count": 66,
     "metadata": {},
     "output_type": "execute_result"
    }
   ],
   "source": [
    "df_positive = pd.read_csv(r\"C:/UserData/z003cu8m/OneDrive - Siemens AG/Documents/Documents/Documents/Siemens/Computer Backup/Personal/MSADS/Text Mining/Week six/ads-tm-sentiment-main/ads-tm-sentiment-main/positive-words.txt\", error_bad_lines=False)\n",
    "df_positive.head(10)\n",
    "\n",
    "df_positive.rename(columns={';;;;;;;;;;;;;;;;;;;;;;;;;;;;;;;;;;;;;;;;;;;;;;;;;;;;;;;;;;;;;;;;;;;;;;;;;;;;': 'text'}, inplace=True)\n",
    "df_positive['Bing_Liu_Score'] = df_positive['text'].apply(bing_liu_score)\n",
    "df_positive[['text','Bing_Liu_Score']].sample(10, random_state=0)"
   ]
  },
  {
   "cell_type": "code",
   "execution_count": 40,
   "metadata": {},
   "outputs": [
    {
     "name": "stderr",
     "output_type": "stream",
     "text": [
      "b'Skipping line 10: expected 1 fields, saw 2\\nSkipping line 14: expected 1 fields, saw 5\\nSkipping line 15: expected 1 fields, saw 3\\nSkipping line 16: expected 1 fields, saw 2\\nSkipping line 18: expected 1 fields, saw 3\\nSkipping line 19: expected 1 fields, saw 3\\nSkipping line 27: expected 1 fields, saw 3\\nSkipping line 28: expected 1 fields, saw 2\\n'\n"
     ]
    },
    {
     "data": {
      "text/html": [
       "<div>\n",
       "<style scoped>\n",
       "    .dataframe tbody tr th:only-of-type {\n",
       "        vertical-align: middle;\n",
       "    }\n",
       "\n",
       "    .dataframe tbody tr th {\n",
       "        vertical-align: top;\n",
       "    }\n",
       "\n",
       "    .dataframe thead th {\n",
       "        text-align: right;\n",
       "    }\n",
       "</style>\n",
       "<table border=\"1\" class=\"dataframe\">\n",
       "  <thead>\n",
       "    <tr style=\"text-align: right;\">\n",
       "      <th></th>\n",
       "      <th>text</th>\n",
       "      <th>Bing_Liu_Score</th>\n",
       "    </tr>\n",
       "  </thead>\n",
       "  <tbody>\n",
       "    <tr>\n",
       "      <th>825</th>\n",
       "      <td>cuplrit</td>\n",
       "      <td>-1.0</td>\n",
       "    </tr>\n",
       "    <tr>\n",
       "      <th>1705</th>\n",
       "      <td>flake</td>\n",
       "      <td>-1.0</td>\n",
       "    </tr>\n",
       "    <tr>\n",
       "      <th>4132</th>\n",
       "      <td>stutter</td>\n",
       "      <td>-1.0</td>\n",
       "    </tr>\n",
       "    <tr>\n",
       "      <th>3537</th>\n",
       "      <td>reluctance</td>\n",
       "      <td>-1.0</td>\n",
       "    </tr>\n",
       "    <tr>\n",
       "      <th>3555</th>\n",
       "      <td>repression</td>\n",
       "      <td>-1.0</td>\n",
       "    </tr>\n",
       "    <tr>\n",
       "      <th>2060</th>\n",
       "      <td>hideously</td>\n",
       "      <td>-1.0</td>\n",
       "    </tr>\n",
       "    <tr>\n",
       "      <th>2592</th>\n",
       "      <td>irresolvable</td>\n",
       "      <td>-1.0</td>\n",
       "    </tr>\n",
       "    <tr>\n",
       "      <th>4312</th>\n",
       "      <td>toughness</td>\n",
       "      <td>-1.0</td>\n",
       "    </tr>\n",
       "    <tr>\n",
       "      <th>1933</th>\n",
       "      <td>grudgingly</td>\n",
       "      <td>-1.0</td>\n",
       "    </tr>\n",
       "    <tr>\n",
       "      <th>575</th>\n",
       "      <td>chaotic</td>\n",
       "      <td>-1.0</td>\n",
       "    </tr>\n",
       "  </tbody>\n",
       "</table>\n",
       "</div>"
      ],
      "text/plain": [
       "              text  Bing_Liu_Score\n",
       "825        cuplrit            -1.0\n",
       "1705         flake            -1.0\n",
       "4132       stutter            -1.0\n",
       "3537    reluctance            -1.0\n",
       "3555    repression            -1.0\n",
       "2060     hideously            -1.0\n",
       "2592  irresolvable            -1.0\n",
       "4312     toughness            -1.0\n",
       "1933    grudgingly            -1.0\n",
       "575        chaotic            -1.0"
      ]
     },
     "execution_count": 40,
     "metadata": {},
     "output_type": "execute_result"
    }
   ],
   "source": [
    "df_negative = pd.read_csv(r\"C:/UserData/z003cu8m/OneDrive - Siemens AG/Documents/Documents/Documents/Siemens/Computer Backup/Personal/MSADS/Text Mining/Week six/ads-tm-sentiment-main/ads-tm-sentiment-main/negative-words.txt\", encoding='latin-1', error_bad_lines=False)\n",
    "df_negative.rename(columns={';;;;;;;;;;;;;;;;;;;;;;;;;;;;;;;;;;;;;;;;;;;;;;;;;;;;;;;;;;;;;;;;;;;;;;;;;;;;;;': 'text'}, inplace=True)\n",
    "df_negative['Bing_Liu_Score'] = df_negative['text'].apply(bing_liu_score)\n",
    "df_negative[['text','Bing_Liu_Score']].sample(10, random_state=0)"
   ]
  },
  {
   "cell_type": "code",
   "execution_count": 84,
   "metadata": {},
   "outputs": [
    {
     "data": {
      "text/html": [
       "<div>\n",
       "<style scoped>\n",
       "    .dataframe tbody tr th:only-of-type {\n",
       "        vertical-align: middle;\n",
       "    }\n",
       "\n",
       "    .dataframe tbody tr th {\n",
       "        vertical-align: top;\n",
       "    }\n",
       "\n",
       "    .dataframe thead th {\n",
       "        text-align: right;\n",
       "    }\n",
       "</style>\n",
       "<table border=\"1\" class=\"dataframe\">\n",
       "  <thead>\n",
       "    <tr style=\"text-align: right;\">\n",
       "      <th></th>\n",
       "      <th>word</th>\n",
       "      <th>sentiment</th>\n",
       "      <th>lexicon</th>\n",
       "    </tr>\n",
       "  </thead>\n",
       "  <tbody>\n",
       "    <tr>\n",
       "      <th>0</th>\n",
       "      <td>abandon</td>\n",
       "      <td>-1.0</td>\n",
       "      <td>nrc</td>\n",
       "    </tr>\n",
       "    <tr>\n",
       "      <th>1</th>\n",
       "      <td>abandoned</td>\n",
       "      <td>-1.0</td>\n",
       "      <td>nrc</td>\n",
       "    </tr>\n",
       "    <tr>\n",
       "      <th>2</th>\n",
       "      <td>abandonment</td>\n",
       "      <td>-1.0</td>\n",
       "      <td>nrc</td>\n",
       "    </tr>\n",
       "    <tr>\n",
       "      <th>3</th>\n",
       "      <td>abba</td>\n",
       "      <td>1.0</td>\n",
       "      <td>nrc</td>\n",
       "    </tr>\n",
       "    <tr>\n",
       "      <th>4</th>\n",
       "      <td>abduction</td>\n",
       "      <td>-1.0</td>\n",
       "      <td>nrc</td>\n",
       "    </tr>\n",
       "    <tr>\n",
       "      <th>5</th>\n",
       "      <td>aberrant</td>\n",
       "      <td>-1.0</td>\n",
       "      <td>nrc</td>\n",
       "    </tr>\n",
       "    <tr>\n",
       "      <th>6</th>\n",
       "      <td>aberration</td>\n",
       "      <td>-1.0</td>\n",
       "      <td>nrc</td>\n",
       "    </tr>\n",
       "    <tr>\n",
       "      <th>7</th>\n",
       "      <td>abhor</td>\n",
       "      <td>-1.0</td>\n",
       "      <td>nrc</td>\n",
       "    </tr>\n",
       "    <tr>\n",
       "      <th>8</th>\n",
       "      <td>abhorrent</td>\n",
       "      <td>-1.0</td>\n",
       "      <td>nrc</td>\n",
       "    </tr>\n",
       "    <tr>\n",
       "      <th>9</th>\n",
       "      <td>ability</td>\n",
       "      <td>1.0</td>\n",
       "      <td>nrc</td>\n",
       "    </tr>\n",
       "  </tbody>\n",
       "</table>\n",
       "</div>"
      ],
      "text/plain": [
       "          word  sentiment lexicon\n",
       "0      abandon       -1.0     nrc\n",
       "1    abandoned       -1.0     nrc\n",
       "2  abandonment       -1.0     nrc\n",
       "3         abba        1.0     nrc\n",
       "4    abduction       -1.0     nrc\n",
       "5     aberrant       -1.0     nrc\n",
       "6   aberration       -1.0     nrc\n",
       "7        abhor       -1.0     nrc\n",
       "8    abhorrent       -1.0     nrc\n",
       "9      ability        1.0     nrc"
      ]
     },
     "execution_count": 84,
     "metadata": {},
     "output_type": "execute_result"
    }
   ],
   "source": [
    "df_tidy = pd.read_csv(r\"C:/Users/z003cu8m/Desktop/tidy_csv_new.csv\")\n",
    "df_tidy['sentiment'] = df_tidy['sentiment'].replace(['negative'], -1.0)\n",
    "df_tidy['sentiment'] = df_tidy['sentiment'].replace(['positive'], 1.0)\n",
    "df_tidy.head(10)"
   ]
  },
  {
   "cell_type": "markdown",
   "metadata": {},
   "source": [
    "## Sentiment Analysis on Songs\n",
    "\n",
    "In this section, score the sentiment for all the songs for both artists in your data set. Score the sentiment by manually calculating the sentiment using the combined lexicons provided in this repository. \n",
    "\n",
    "After you have calculated these sentiments, answer the questions at the end of this section.\n"
   ]
  },
  {
   "cell_type": "markdown",
   "metadata": {},
   "source": [
    "### Cher"
   ]
  },
  {
   "cell_type": "code",
   "execution_count": 153,
   "metadata": {},
   "outputs": [
    {
     "data": {
      "text/html": [
       "<div>\n",
       "<style scoped>\n",
       "    .dataframe tbody tr th:only-of-type {\n",
       "        vertical-align: middle;\n",
       "    }\n",
       "\n",
       "    .dataframe tbody tr th {\n",
       "        vertical-align: top;\n",
       "    }\n",
       "\n",
       "    .dataframe thead th {\n",
       "        text-align: right;\n",
       "    }\n",
       "</style>\n",
       "<table border=\"1\" class=\"dataframe\">\n",
       "  <thead>\n",
       "    <tr style=\"text-align: right;\">\n",
       "      <th></th>\n",
       "      <th>lyrics_words</th>\n",
       "      <th>Bing_Liu_Score</th>\n",
       "      <th>lyrics_door</th>\n",
       "      <th>Bing_Liu_Score</th>\n",
       "      <th>lyrics_alife</th>\n",
       "      <th>Bing_Liu_Score</th>\n",
       "      <th>lyrics_afterall</th>\n",
       "      <th>Bing_Liu_Score</th>\n",
       "      <th>lyrics_again</th>\n",
       "      <th>Bing_Liu_Score</th>\n",
       "    </tr>\n",
       "  </thead>\n",
       "  <tbody>\n",
       "    <tr>\n",
       "      <th>0</th>\n",
       "      <td>angels</td>\n",
       "      <td>0.0</td>\n",
       "      <td>behind</td>\n",
       "      <td>0.0</td>\n",
       "      <td>what's</td>\n",
       "      <td>0.0</td>\n",
       "      <td>well,</td>\n",
       "      <td>0.5</td>\n",
       "      <td>again</td>\n",
       "      <td>0.0</td>\n",
       "    </tr>\n",
       "    <tr>\n",
       "      <th>1</th>\n",
       "      <td>running\"</td>\n",
       "      <td>0.0</td>\n",
       "      <td>the</td>\n",
       "      <td>0.0</td>\n",
       "      <td>about,</td>\n",
       "      <td>0.0</td>\n",
       "      <td>i</td>\n",
       "      <td>0.0</td>\n",
       "      <td>evening</td>\n",
       "      <td>0.0</td>\n",
       "    </tr>\n",
       "    <tr>\n",
       "      <th>2</th>\n",
       "      <td>well</td>\n",
       "      <td>1.0</td>\n",
       "      <td>door</td>\n",
       "      <td>0.0</td>\n",
       "      <td>alfie?</td>\n",
       "      <td>0.0</td>\n",
       "      <td>guess</td>\n",
       "      <td>0.0</td>\n",
       "      <td>finds</td>\n",
       "      <td>0.0</td>\n",
       "    </tr>\n",
       "    <tr>\n",
       "      <th>3</th>\n",
       "      <td>i</td>\n",
       "      <td>0.0</td>\n",
       "      <td>behind</td>\n",
       "      <td>0.0</td>\n",
       "      <td>is</td>\n",
       "      <td>0.0</td>\n",
       "      <td>must</td>\n",
       "      <td>0.0</td>\n",
       "      <td>door</td>\n",
       "      <td>0.0</td>\n",
       "    </tr>\n",
       "    <tr>\n",
       "      <th>4</th>\n",
       "      <td>heard</td>\n",
       "      <td>0.0</td>\n",
       "      <td>door</td>\n",
       "      <td>0.0</td>\n",
       "      <td>moment</td>\n",
       "      <td>0.0</td>\n",
       "      <td>fate</td>\n",
       "      <td>0.0</td>\n",
       "      <td>here</td>\n",
       "      <td>0.0</td>\n",
       "    </tr>\n",
       "    <tr>\n",
       "      <th>5</th>\n",
       "      <td>enough</td>\n",
       "      <td>1.0</td>\n",
       "      <td>every</td>\n",
       "      <td>0.0</td>\n",
       "      <td>live?</td>\n",
       "      <td>0.0</td>\n",
       "      <td>we've</td>\n",
       "      <td>0.0</td>\n",
       "      <td>ask</td>\n",
       "      <td>0.0</td>\n",
       "    </tr>\n",
       "    <tr>\n",
       "      <th>6</th>\n",
       "      <td>and</td>\n",
       "      <td>0.0</td>\n",
       "      <td>house,</td>\n",
       "      <td>0.0</td>\n",
       "      <td>what's</td>\n",
       "      <td>0.0</td>\n",
       "      <td>tried</td>\n",
       "      <td>0.0</td>\n",
       "      <td>if</td>\n",
       "      <td>0.0</td>\n",
       "    </tr>\n",
       "    <tr>\n",
       "      <th>7</th>\n",
       "      <td>i've</td>\n",
       "      <td>0.0</td>\n",
       "      <td>in</td>\n",
       "      <td>0.0</td>\n",
       "      <td>sort</td>\n",
       "      <td>0.0</td>\n",
       "      <td>but</td>\n",
       "      <td>0.0</td>\n",
       "      <td>could</td>\n",
       "      <td>0.0</td>\n",
       "    </tr>\n",
       "    <tr>\n",
       "      <th>8</th>\n",
       "      <td>seen</td>\n",
       "      <td>0.0</td>\n",
       "      <td>every</td>\n",
       "      <td>0.0</td>\n",
       "      <td>out,</td>\n",
       "      <td>0.0</td>\n",
       "      <td>deep</td>\n",
       "      <td>0.0</td>\n",
       "      <td>try</td>\n",
       "      <td>0.0</td>\n",
       "    </tr>\n",
       "    <tr>\n",
       "      <th>9</th>\n",
       "      <td>enough</td>\n",
       "      <td>1.0</td>\n",
       "      <td>street,</td>\n",
       "      <td>0.0</td>\n",
       "      <td>alfie?</td>\n",
       "      <td>0.0</td>\n",
       "      <td>inside</td>\n",
       "      <td>0.0</td>\n",
       "      <td>i</td>\n",
       "      <td>0.0</td>\n",
       "    </tr>\n",
       "  </tbody>\n",
       "</table>\n",
       "</div>"
      ],
      "text/plain": [
       "  lyrics_words  Bing_Liu_Score lyrics_door  Bing_Liu_Score lyrics_alife  \\\n",
       "0       angels             0.0      behind             0.0       what's   \n",
       "1     running\"             0.0         the             0.0       about,   \n",
       "2         well             1.0        door             0.0       alfie?   \n",
       "3            i             0.0      behind             0.0           is   \n",
       "4        heard             0.0        door             0.0       moment   \n",
       "5       enough             1.0       every             0.0        live?   \n",
       "6          and             0.0      house,             0.0       what's   \n",
       "7         i've             0.0          in             0.0         sort   \n",
       "8         seen             0.0       every             0.0         out,   \n",
       "9       enough             1.0     street,             0.0       alfie?   \n",
       "\n",
       "   Bing_Liu_Score lyrics_afterall  Bing_Liu_Score lyrics_again  Bing_Liu_Score  \n",
       "0             0.0           well,             0.5        again             0.0  \n",
       "1             0.0               i             0.0      evening             0.0  \n",
       "2             0.0           guess             0.0        finds             0.0  \n",
       "3             0.0            must             0.0         door             0.0  \n",
       "4             0.0            fate             0.0         here             0.0  \n",
       "5             0.0           we've             0.0          ask             0.0  \n",
       "6             0.0           tried             0.0           if             0.0  \n",
       "7             0.0             but             0.0        could             0.0  \n",
       "8             0.0            deep             0.0          try             0.0  \n",
       "9             0.0          inside             0.0            i             0.0  "
      ]
     },
     "execution_count": 153,
     "metadata": {},
     "output_type": "execute_result"
    }
   ],
   "source": [
    "# your code here\n",
    "\n",
    "df_cher['Bing_Liu_Score'] = df_cher['lyrics_words'].apply(bing_liu_score)\n",
    "df_cher[['lyrics_words','Bing_Liu_Score']].sample(10, random_state=0)\n",
    "\n",
    "df_door['Bing_Liu_Score'] = df_door['lyrics_door'].apply(bing_liu_score)\n",
    "df_door[['lyrics_door','Bing_Liu_Score']].sample(10, random_state=0)\n",
    "\n",
    "df_alife['Bing_Liu_Score'] = df_alife['lyrics_alife'].apply(bing_liu_score)\n",
    "df_alife[['lyrics_alife','Bing_Liu_Score']].sample(10, random_state=0)\n",
    "\n",
    "df_afterall['Bing_Liu_Score'] = df_afterall['lyrics_afterall'].apply(bing_liu_score)\n",
    "df_afterall[['lyrics_afterall','Bing_Liu_Score']].sample(10, random_state=0)\n",
    "\n",
    "df_again['Bing_Liu_Score'] = df_again['lyrics_again'].apply(bing_liu_score)\n",
    "df_again[['lyrics_again','Bing_Liu_Score']].sample(10, random_state=0)\n",
    "\n",
    "\n",
    "result = pd.concat([df_cher, df_door, df_alife, df_afterall, df_again], axis=1)\n",
    "result.head(10)"
   ]
  },
  {
   "cell_type": "code",
   "execution_count": 154,
   "metadata": {},
   "outputs": [],
   "source": [
    "g_cher = df_cher.groupby('lyrics_words')['Bing_Liu_Score']\n",
    "counts = g_cher.agg(\n",
    "    pos_count=lambda s: s.gt(0).sum(),\n",
    "    neg_count=lambda s: s.lt(0).sum(),\n",
    "    net_count=lambda s: s.gt(0).sum()- s.lt(0).sum()).astype(int)\n",
    "\n",
    "\n",
    "g_door = df_door.groupby('lyrics_door')['Bing_Liu_Score']\n",
    "counts = g_door.agg(\n",
    "    pos_count=lambda s: s.gt(0).sum(),\n",
    "    neg_count=lambda s: s.lt(0).sum(),\n",
    "    net_count=lambda s: s.gt(0).sum()- s.lt(0).sum()).astype(int)\n",
    "\n",
    "\n",
    "g_alife = df_alife.groupby('lyrics_alife')['Bing_Liu_Score']\n",
    "counts = g_alife.agg(\n",
    "    pos_count=lambda s: s.gt(0).sum(),\n",
    "    neg_count=lambda s: s.lt(0).sum(),\n",
    "    net_count=lambda s: s.gt(0).sum()- s.lt(0).sum()).astype(int)\n",
    "\n",
    "\n",
    "g_afterall = df_afterall.groupby('lyrics_afterall')['Bing_Liu_Score']\n",
    "counts = g_afterall.agg(\n",
    "    pos_count=lambda s: s.gt(0).sum(),\n",
    "    neg_count=lambda s: s.lt(0).sum(),\n",
    "    net_count=lambda s: s.gt(0).sum()- s.lt(0).sum()).astype(int)\n",
    "\n",
    "\n",
    "g_again = df_again.groupby('lyrics_again')['Bing_Liu_Score']\n",
    "counts = g_again.agg(\n",
    "    pos_count=lambda s: s.gt(0).sum(),\n",
    "    neg_count=lambda s: s.lt(0).sum(),\n",
    "    net_count=lambda s: s.gt(0).sum()- s.lt(0).sum()).astype(int)\n"
   ]
  },
  {
   "cell_type": "code",
   "execution_count": 178,
   "metadata": {},
   "outputs": [
    {
     "data": {
      "text/plain": [
       "neutral      61\n",
       "pos_count     6\n",
       "neg_count     2\n",
       "Name: type, dtype: int64"
      ]
     },
     "execution_count": 178,
     "metadata": {},
     "output_type": "execute_result"
    }
   ],
   "source": [
    "count_cher=(df_cher.assign(type=np.sign(df_cher['Bing_Liu_Score'])\n",
    "                      .map({1:'pos_count', -1:'neg_count', 0:'neutral'}))\n",
    "        .groupby(df_cher['lyrics_words'])['type']\n",
    "        .value_counts()\n",
    "        .reset_index(name='count'))\n",
    "count_cher\n",
    "\n",
    "count_cher['type'].value_counts()"
   ]
  },
  {
   "cell_type": "code",
   "execution_count": 179,
   "metadata": {},
   "outputs": [
    {
     "data": {
      "text/plain": [
       "<matplotlib.axes._subplots.AxesSubplot at 0x272a180e408>"
      ]
     },
     "execution_count": 179,
     "metadata": {},
     "output_type": "execute_result"
    },
    {
     "data": {
      "image/png": "[encoded data removed]",
      "text/plain": [
       "<Figure size 432x288 with 1 Axes>"
      ]
     },
     "metadata": {
      "needs_background": "light"
     },
     "output_type": "display_data"
    }
   ],
   "source": [
    "count_cher['type'].value_counts()[:20].plot(kind='barh')"
   ]
  },
  {
   "cell_type": "code",
   "execution_count": 180,
   "metadata": {},
   "outputs": [
    {
     "data": {
      "text/plain": [
       "neutral      52\n",
       "neg_count     7\n",
       "pos_count     5\n",
       "Name: type, dtype: int64"
      ]
     },
     "execution_count": 180,
     "metadata": {},
     "output_type": "execute_result"
    }
   ],
   "source": [
    "count_door=(df_door.assign(type=np.sign(df_door['Bing_Liu_Score'])\n",
    "                      .map({1:'pos_count', -1:'neg_count', 0:'neutral'}))\n",
    "        .groupby(df_door['lyrics_door'])['type']\n",
    "        .value_counts()\n",
    "        .reset_index(name='count'))\n",
    "count_door\n",
    "\n",
    "count_door['type'].value_counts()"
   ]
  },
  {
   "cell_type": "code",
   "execution_count": 181,
   "metadata": {},
   "outputs": [
    {
     "data": {
      "text/plain": [
       "<matplotlib.axes._subplots.AxesSubplot at 0x272a2cbb648>"
      ]
     },
     "execution_count": 181,
     "metadata": {},
     "output_type": "execute_result"
    },
    {
     "data": {
      "image/png": "[encoded data removed]",
      "text/plain": [
       "<Figure size 432x288 with 1 Axes>"
      ]
     },
     "metadata": {
      "needs_background": "light"
     },
     "output_type": "display_data"
    }
   ],
   "source": [
    "count_door['type'].value_counts()[:20].plot(kind='barh')"
   ]
  },
  {
   "cell_type": "code",
   "execution_count": 182,
   "metadata": {},
   "outputs": [
    {
     "data": {
      "text/plain": [
       "neutral      56\n",
       "pos_count     7\n",
       "neg_count     2\n",
       "Name: type, dtype: int64"
      ]
     },
     "execution_count": 182,
     "metadata": {},
     "output_type": "execute_result"
    }
   ],
   "source": [
    "count_alife=(df_alife.assign(type=np.sign(df_alife['Bing_Liu_Score'])\n",
    "                      .map({1:'pos_count', -1:'neg_count', 0:'neutral'}))\n",
    "        .groupby(df_alife['lyrics_alife'])['type']\n",
    "        .value_counts()\n",
    "        .reset_index(name='count'))\n",
    "count_alife\n",
    "\n",
    "count_alife['type'].value_counts()"
   ]
  },
  {
   "cell_type": "code",
   "execution_count": 183,
   "metadata": {},
   "outputs": [
    {
     "data": {
      "text/plain": [
       "<matplotlib.axes._subplots.AxesSubplot at 0x272a2d21048>"
      ]
     },
     "execution_count": 183,
     "metadata": {},
     "output_type": "execute_result"
    },
    {
     "data": {
      "image/png": "[encoded data removed]",
      "text/plain": [
       "<Figure size 432x288 with 1 Axes>"
      ]
     },
     "metadata": {
      "needs_background": "light"
     },
     "output_type": "display_data"
    }
   ],
   "source": [
    "count_alife['type'].value_counts()[:20].plot(kind='barh')"
   ]
  },
  {
   "cell_type": "code",
   "execution_count": 184,
   "metadata": {},
   "outputs": [
    {
     "data": {
      "text/plain": [
       "neutral      65\n",
       "pos_count     3\n",
       "neg_count     1\n",
       "Name: type, dtype: int64"
      ]
     },
     "execution_count": 184,
     "metadata": {},
     "output_type": "execute_result"
    }
   ],
   "source": [
    "count_afterall=(df_afterall.assign(type=np.sign(df_afterall['Bing_Liu_Score'])\n",
    "                      .map({1:'pos_count', -1:'neg_count', 0:'neutral'}))\n",
    "        .groupby(df_afterall['lyrics_afterall'])['type']\n",
    "        .value_counts()\n",
    "        .reset_index(name='count'))\n",
    "count_afterall\n",
    "\n",
    "count_afterall['type'].value_counts()"
   ]
  },
  {
   "cell_type": "code",
   "execution_count": 185,
   "metadata": {},
   "outputs": [
    {
     "data": {
      "text/plain": [
       "<matplotlib.axes._subplots.AxesSubplot at 0x272a2d86608>"
      ]
     },
     "execution_count": 185,
     "metadata": {},
     "output_type": "execute_result"
    },
    {
     "data": {
      "image/png": "[encoded data removed]",
      "text/plain": [
       "<Figure size 432x288 with 1 Axes>"
      ]
     },
     "metadata": {
      "needs_background": "light"
     },
     "output_type": "display_data"
    }
   ],
   "source": [
    "count_afterall['type'].value_counts()[:20].plot(kind='barh')"
   ]
  },
  {
   "cell_type": "code",
   "execution_count": 186,
   "metadata": {},
   "outputs": [
    {
     "data": {
      "text/plain": [
       "neutral      30\n",
       "pos_count     2\n",
       "neg_count     1\n",
       "Name: type, dtype: int64"
      ]
     },
     "execution_count": 186,
     "metadata": {},
     "output_type": "execute_result"
    }
   ],
   "source": [
    "count_again=(df_again.assign(type=np.sign(df_again['Bing_Liu_Score'])\n",
    "                      .map({1:'pos_count', -1:'neg_count', 0:'neutral'}))\n",
    "        .groupby(df_again['lyrics_again'])['type']\n",
    "        .value_counts()\n",
    "        .reset_index(name='count'))\n",
    "count_again\n",
    "\n",
    "count_again['type'].value_counts()"
   ]
  },
  {
   "cell_type": "code",
   "execution_count": 187,
   "metadata": {},
   "outputs": [
    {
     "data": {
      "text/plain": [
       "<matplotlib.axes._subplots.AxesSubplot at 0x272a2e2e148>"
      ]
     },
     "execution_count": 187,
     "metadata": {},
     "output_type": "execute_result"
    },
    {
     "data": {
      "image/png": "[encoded data removed]",
      "text/plain": [
       "<Figure size 432x288 with 1 Axes>"
      ]
     },
     "metadata": {
      "needs_background": "light"
     },
     "output_type": "display_data"
    }
   ],
   "source": [
    "count_again['type'].value_counts()[:20].plot(kind='barh')"
   ]
  },
  {
   "cell_type": "markdown",
   "metadata": {},
   "source": [
    "### Robyn"
   ]
  },
  {
   "cell_type": "code",
   "execution_count": 220,
   "metadata": {},
   "outputs": [
    {
     "data": {
      "text/html": [
       "<div>\n",
       "<style scoped>\n",
       "    .dataframe tbody tr th:only-of-type {\n",
       "        vertical-align: middle;\n",
       "    }\n",
       "\n",
       "    .dataframe tbody tr th {\n",
       "        vertical-align: top;\n",
       "    }\n",
       "\n",
       "    .dataframe thead th {\n",
       "        text-align: right;\n",
       "    }\n",
       "</style>\n",
       "<table border=\"1\" class=\"dataframe\">\n",
       "  <thead>\n",
       "    <tr style=\"text-align: right;\">\n",
       "      <th></th>\n",
       "      <th>lyrics_anytime</th>\n",
       "      <th>Bing_Liu_Score</th>\n",
       "      <th>lyrics_mind</th>\n",
       "      <th>Bing_Liu_Score</th>\n",
       "      <th>lyrics_baby</th>\n",
       "      <th>Bing_Liu_Score</th>\n",
       "      <th>lyrics_play</th>\n",
       "      <th>Bing_Liu_Score</th>\n",
       "      <th>lyrics_tell</th>\n",
       "      <th>Bing_Liu_Score</th>\n",
       "    </tr>\n",
       "  </thead>\n",
       "  <tbody>\n",
       "    <tr>\n",
       "      <th>0</th>\n",
       "      <td>it's</td>\n",
       "      <td>0.0</td>\n",
       "      <td>straight</td>\n",
       "      <td>0.0</td>\n",
       "      <td>[chorus:]</td>\n",
       "      <td>0.0</td>\n",
       "      <td>um</td>\n",
       "      <td>0.0</td>\n",
       "      <td>tell</td>\n",
       "      <td>0.0</td>\n",
       "    </tr>\n",
       "    <tr>\n",
       "      <th>1</th>\n",
       "      <td>like</td>\n",
       "      <td>1.0</td>\n",
       "      <td>heart</td>\n",
       "      <td>0.0</td>\n",
       "      <td>o</td>\n",
       "      <td>0.0</td>\n",
       "      <td>um</td>\n",
       "      <td>0.0</td>\n",
       "      <td>tell</td>\n",
       "      <td>0.0</td>\n",
       "    </tr>\n",
       "    <tr>\n",
       "      <th>2</th>\n",
       "      <td>waiting</td>\n",
       "      <td>0.0</td>\n",
       "      <td>number</td>\n",
       "      <td>0.0</td>\n",
       "      <td>baby</td>\n",
       "      <td>0.0</td>\n",
       "      <td>some</td>\n",
       "      <td>0.0</td>\n",
       "      <td>tell</td>\n",
       "      <td>0.0</td>\n",
       "    </tr>\n",
       "    <tr>\n",
       "      <th>3</th>\n",
       "      <td>start</td>\n",
       "      <td>0.0</td>\n",
       "      <td>one</td>\n",
       "      <td>0.0</td>\n",
       "      <td>making</td>\n",
       "      <td>0.0</td>\n",
       "      <td>people</td>\n",
       "      <td>0.0</td>\n",
       "      <td>tell</td>\n",
       "      <td>0.0</td>\n",
       "    </tr>\n",
       "    <tr>\n",
       "      <th>4</th>\n",
       "      <td>there's</td>\n",
       "      <td>0.0</td>\n",
       "      <td>and</td>\n",
       "      <td>0.0</td>\n",
       "      <td>mistake</td>\n",
       "      <td>-1.0</td>\n",
       "      <td>live</td>\n",
       "      <td>0.0</td>\n",
       "      <td>tell</td>\n",
       "      <td>0.0</td>\n",
       "    </tr>\n",
       "    <tr>\n",
       "      <th>5</th>\n",
       "      <td>right</td>\n",
       "      <td>1.0</td>\n",
       "      <td>hey</td>\n",
       "      <td>0.0</td>\n",
       "      <td>oh</td>\n",
       "      <td>0.0</td>\n",
       "      <td>lives</td>\n",
       "      <td>0.0</td>\n",
       "      <td>tell</td>\n",
       "      <td>0.0</td>\n",
       "    </tr>\n",
       "    <tr>\n",
       "      <th>6</th>\n",
       "      <td>moment</td>\n",
       "      <td>0.0</td>\n",
       "      <td>here's</td>\n",
       "      <td>0.0</td>\n",
       "      <td>o</td>\n",
       "      <td>0.0</td>\n",
       "      <td>book,</td>\n",
       "      <td>0.0</td>\n",
       "      <td>tell</td>\n",
       "      <td>0.0</td>\n",
       "    </tr>\n",
       "    <tr>\n",
       "      <th>7</th>\n",
       "      <td>break</td>\n",
       "      <td>-1.0</td>\n",
       "      <td>part</td>\n",
       "      <td>0.0</td>\n",
       "      <td>understand,</td>\n",
       "      <td>0.0</td>\n",
       "      <td>some</td>\n",
       "      <td>0.0</td>\n",
       "      <td>tell</td>\n",
       "      <td>0.0</td>\n",
       "    </tr>\n",
       "    <tr>\n",
       "      <th>8</th>\n",
       "      <td>heart</td>\n",
       "      <td>0.0</td>\n",
       "      <td>i'm</td>\n",
       "      <td>0.0</td>\n",
       "      <td>everytime</td>\n",
       "      <td>0.0</td>\n",
       "      <td>people</td>\n",
       "      <td>0.0</td>\n",
       "      <td>tell</td>\n",
       "      <td>0.0</td>\n",
       "    </tr>\n",
       "    <tr>\n",
       "      <th>9</th>\n",
       "      <td>boy</td>\n",
       "      <td>0.0</td>\n",
       "      <td>still</td>\n",
       "      <td>0.0</td>\n",
       "      <td>make</td>\n",
       "      <td>0.0</td>\n",
       "      <td>scared</td>\n",
       "      <td>-1.0</td>\n",
       "      <td>tell</td>\n",
       "      <td>0.0</td>\n",
       "    </tr>\n",
       "  </tbody>\n",
       "</table>\n",
       "</div>"
      ],
      "text/plain": [
       "  lyrics_anytime  Bing_Liu_Score lyrics_mind  Bing_Liu_Score  lyrics_baby  \\\n",
       "0           it's             0.0    straight             0.0    [chorus:]   \n",
       "1           like             1.0       heart             0.0            o   \n",
       "2        waiting             0.0      number             0.0         baby   \n",
       "3          start             0.0         one             0.0       making   \n",
       "4        there's             0.0         and             0.0      mistake   \n",
       "5          right             1.0         hey             0.0           oh   \n",
       "6         moment             0.0      here's             0.0            o   \n",
       "7          break            -1.0        part             0.0  understand,   \n",
       "8          heart             0.0         i'm             0.0    everytime   \n",
       "9            boy             0.0       still             0.0         make   \n",
       "\n",
       "   Bing_Liu_Score lyrics_play  Bing_Liu_Score lyrics_tell  Bing_Liu_Score  \n",
       "0             0.0          um             0.0        tell             0.0  \n",
       "1             0.0          um             0.0        tell             0.0  \n",
       "2             0.0        some             0.0        tell             0.0  \n",
       "3             0.0      people             0.0        tell             0.0  \n",
       "4            -1.0        live             0.0        tell             0.0  \n",
       "5             0.0       lives             0.0        tell             0.0  \n",
       "6             0.0       book,             0.0        tell             0.0  \n",
       "7             0.0        some             0.0        tell             0.0  \n",
       "8             0.0      people             0.0        tell             0.0  \n",
       "9             0.0      scared            -1.0        tell             0.0  "
      ]
     },
     "execution_count": 220,
     "metadata": {},
     "output_type": "execute_result"
    }
   ],
   "source": [
    "df_anytime['Bing_Liu_Score'] = df_anytime['lyrics_anytime'].apply(bing_liu_score)\n",
    "df_anytime[['lyrics_anytime','Bing_Liu_Score']].sample(10, random_state=0)\n",
    "\n",
    "df_mind['Bing_Liu_Score'] = df_mind['lyrics_mind'].apply(bing_liu_score)\n",
    "df_mind[['lyrics_mind','Bing_Liu_Score']].sample(10, random_state=0)\n",
    "\n",
    "df_baby['Bing_Liu_Score'] = df_baby['lyrics_baby'].apply(bing_liu_score)\n",
    "df_baby[['lyrics_baby','Bing_Liu_Score']].sample(10, random_state=0)\n",
    "\n",
    "df_play['Bing_Liu_Score'] = df_play['lyrics_play'].apply(bing_liu_score)\n",
    "df_play[['lyrics_play','Bing_Liu_Score']].sample(10, random_state=0)\n",
    "\n",
    "df_tell['Bing_Liu_Score'] = df_tell['lyrics_tell'].apply(bing_liu_score)\n",
    "df_tell[['lyrics_tell','Bing_Liu_Score']].sample(10, random_state=0)\n",
    "\n",
    "\n",
    "result_robyn = pd.concat([df_anytime, df_mind, df_baby, df_play, df_tell], axis=1)\n",
    "result_robyn.head(10)"
   ]
  },
  {
   "cell_type": "code",
   "execution_count": 221,
   "metadata": {},
   "outputs": [
    {
     "data": {
      "text/plain": [
       "neutral      63\n",
       "pos_count     6\n",
       "neg_count     3\n",
       "Name: type, dtype: int64"
      ]
     },
     "execution_count": 221,
     "metadata": {},
     "output_type": "execute_result"
    }
   ],
   "source": [
    "count_anytime=(df_anytime.assign(type=np.sign(df_anytime['Bing_Liu_Score'])\n",
    "                      .map({1:'pos_count', -1:'neg_count', 0:'neutral'}))\n",
    "        .groupby(df_anytime['lyrics_anytime'])['type']\n",
    "        .value_counts()\n",
    "        .reset_index(name='count'))\n",
    "count_anytime\n",
    "\n",
    "count_anytime['type'].value_counts()"
   ]
  },
  {
   "cell_type": "code",
   "execution_count": 222,
   "metadata": {},
   "outputs": [
    {
     "data": {
      "text/plain": [
       "<matplotlib.axes._subplots.AxesSubplot at 0x272a3708c48>"
      ]
     },
     "execution_count": 222,
     "metadata": {},
     "output_type": "execute_result"
    },
    {
     "data": {
      "image/png": "[encoded data removed]",
      "text/plain": [
       "<Figure size 432x288 with 1 Axes>"
      ]
     },
     "metadata": {
      "needs_background": "light"
     },
     "output_type": "display_data"
    }
   ],
   "source": [
    "count_anytime['type'].value_counts()[:20].plot(kind='barh')"
   ]
  },
  {
   "cell_type": "code",
   "execution_count": 223,
   "metadata": {},
   "outputs": [
    {
     "data": {
      "text/plain": [
       "neutral      50\n",
       "pos_count     7\n",
       "neg_count     4\n",
       "Name: type, dtype: int64"
      ]
     },
     "execution_count": 223,
     "metadata": {},
     "output_type": "execute_result"
    }
   ],
   "source": [
    "count_mind=(df_mind.assign(type=np.sign(df_mind['Bing_Liu_Score'])\n",
    "                      .map({1:'pos_count', -1:'neg_count', 0:'neutral'}))\n",
    "        .groupby(df_mind['lyrics_mind'])['type']\n",
    "        .value_counts()\n",
    "        .reset_index(name='count'))\n",
    "count_mind\n",
    "\n",
    "count_mind['type'].value_counts()"
   ]
  },
  {
   "cell_type": "code",
   "execution_count": 226,
   "metadata": {},
   "outputs": [
    {
     "data": {
      "text/plain": [
       "<matplotlib.axes._subplots.AxesSubplot at 0x272a3c806c8>"
      ]
     },
     "execution_count": 226,
     "metadata": {},
     "output_type": "execute_result"
    },
    {
     "data": {
      "image/png": "[encoded data removed]",
      "text/plain": [
       "<Figure size 432x288 with 1 Axes>"
      ]
     },
     "metadata": {
      "needs_background": "light"
     },
     "output_type": "display_data"
    }
   ],
   "source": [
    "count_mind['type'].value_counts()[:20].plot(kind='barh')"
   ]
  },
  {
   "cell_type": "code",
   "execution_count": 224,
   "metadata": {},
   "outputs": [
    {
     "data": {
      "text/plain": [
       "neutral      54\n",
       "neg_count     9\n",
       "pos_count     2\n",
       "Name: type, dtype: int64"
      ]
     },
     "execution_count": 224,
     "metadata": {},
     "output_type": "execute_result"
    }
   ],
   "source": [
    "count_baby=(df_baby.assign(type=np.sign(df_baby['Bing_Liu_Score'])\n",
    "                      .map({1:'pos_count', -1:'neg_count', 0:'neutral'}))\n",
    "        .groupby(df_baby['lyrics_baby'])['type']\n",
    "        .value_counts()\n",
    "        .reset_index(name='count'))\n",
    "count_baby\n",
    "\n",
    "count_baby['type'].value_counts()"
   ]
  },
  {
   "cell_type": "code",
   "execution_count": 225,
   "metadata": {},
   "outputs": [
    {
     "data": {
      "text/plain": [
       "<matplotlib.axes._subplots.AxesSubplot at 0x272a3c26408>"
      ]
     },
     "execution_count": 225,
     "metadata": {},
     "output_type": "execute_result"
    },
    {
     "data": {
      "image/png": "[encoded data removed]",
      "text/plain": [
       "<Figure size 432x288 with 1 Axes>"
      ]
     },
     "metadata": {
      "needs_background": "light"
     },
     "output_type": "display_data"
    }
   ],
   "source": [
    "count_baby['type'].value_counts()[:20].plot(kind='barh')"
   ]
  },
  {
   "cell_type": "code",
   "execution_count": 228,
   "metadata": {},
   "outputs": [
    {
     "data": {
      "text/plain": [
       "neutral      69\n",
       "pos_count     2\n",
       "neg_count     1\n",
       "Name: type, dtype: int64"
      ]
     },
     "execution_count": 228,
     "metadata": {},
     "output_type": "execute_result"
    }
   ],
   "source": [
    "count_play=(df_play.assign(type=np.sign(df_play['Bing_Liu_Score'])\n",
    "                      .map({1:'pos_count', -1:'neg_count', 0:'neutral'}))\n",
    "        .groupby(df_play['lyrics_play'])['type']\n",
    "        .value_counts()\n",
    "        .reset_index(name='count'))\n",
    "count_play\n",
    "\n",
    "count_play['type'].value_counts()"
   ]
  },
  {
   "cell_type": "code",
   "execution_count": 229,
   "metadata": {},
   "outputs": [
    {
     "data": {
      "text/plain": [
       "<matplotlib.axes._subplots.AxesSubplot at 0x272a3cf5d88>"
      ]
     },
     "execution_count": 229,
     "metadata": {},
     "output_type": "execute_result"
    },
    {
     "data": {
      "image/png": "[encoded data removed]",
      "text/plain": [
       "<Figure size 432x288 with 1 Axes>"
      ]
     },
     "metadata": {
      "needs_background": "light"
     },
     "output_type": "display_data"
    }
   ],
   "source": [
    "count_play['type'].value_counts()[:20].plot(kind='barh')"
   ]
  },
  {
   "cell_type": "code",
   "execution_count": 230,
   "metadata": {},
   "outputs": [
    {
     "data": {
      "text/plain": [
       "neutral      33\n",
       "neg_count     1\n",
       "pos_count     1\n",
       "Name: type, dtype: int64"
      ]
     },
     "execution_count": 230,
     "metadata": {},
     "output_type": "execute_result"
    }
   ],
   "source": [
    "count_tell=(df_tell.assign(type=np.sign(df_tell['Bing_Liu_Score'])\n",
    "                      .map({1:'pos_count', -1:'neg_count', 0:'neutral'}))\n",
    "        .groupby(df_tell['lyrics_tell'])['type']\n",
    "        .value_counts()\n",
    "        .reset_index(name='count'))\n",
    "count_tell\n",
    "\n",
    "count_tell['type'].value_counts()"
   ]
  },
  {
   "cell_type": "code",
   "execution_count": 231,
   "metadata": {},
   "outputs": [
    {
     "data": {
      "text/plain": [
       "<matplotlib.axes._subplots.AxesSubplot at 0x272a3d49f08>"
      ]
     },
     "execution_count": 231,
     "metadata": {},
     "output_type": "execute_result"
    },
    {
     "data": {
      "image/png": "[encoded data removed]",
      "text/plain": [
       "<Figure size 432x288 with 1 Axes>"
      ]
     },
     "metadata": {
      "needs_background": "light"
     },
     "output_type": "display_data"
    }
   ],
   "source": [
    "count_tell['type'].value_counts()[:20].plot(kind='barh')"
   ]
  },
  {
   "cell_type": "markdown",
   "metadata": {},
   "source": [
    "### Questions\n",
    "\n",
    "Q: Overall, which artist has the higher average sentiment per song? \n",
    "\n",
    "A: Robyn seems to to have higher sentiment per song over Cher.\n",
    "\n",
    "---\n",
    "\n",
    "Q: For your first artist, what songs have the highest and lowest sentiments? Print those songs to the screen.\n",
    "\n",
    "A: For Cher: \"Behind the Door\" & \"Alife\" are tied in the lowest sentiments. And \"Behind the Door\" also has the highest sentiment.\n",
    "\n",
    "---\n",
    "\n",
    "Q: For your second artist, what songs have the highest and lowest sentiments? Print those songs to the screen.\n",
    "\n",
    "A: For Robyn: \"Blow my Mind\" has the highest sentiment, and \"oh Baby\" has the lowest sentiment.\n",
    "\n",
    "---\n",
    "\n",
    "Q: Plot the distributions of the sentiment scores for both artists. You can use `seaborn` to plot densities or plot histograms in matplotlib.\n",
    "\n",
    "A: See above. \n",
    "\n",
    "\n"
   ]
  },
  {
   "cell_type": "markdown",
   "metadata": {},
   "source": [
    "## Sentiment Analysis on Twitter Descriptions\n",
    "\n",
    "In this section, define two sets of emojis you designate as positive and negative. Make sure to have at least 10 emojis per set. You can learn about the most popular emojis on Twitter at [the emojitracker](https://emojitracker.com/). \n",
    "\n",
    "Associate your positive emojis with a score of +1, negative with -1. Score the average sentiment of your two artists based on the Twitter descriptions of their followers. The average sentiment can just be the total score divided by number of followers. "
   ]
  },
  {
   "cell_type": "code",
   "execution_count": 316,
   "metadata": {},
   "outputs": [
    {
     "data": {
      "text/plain": [
       "['emoji',\n",
       " 'tok2vec',\n",
       " 'tagger',\n",
       " 'parser',\n",
       " 'attribute_ruler',\n",
       " 'lemmatizer',\n",
       " 'ner']"
      ]
     },
     "execution_count": 316,
     "metadata": {},
     "output_type": "execute_result"
    }
   ],
   "source": [
    "#!pip install -U pip setuptools wheel\n",
    "#!pip install -U spacy\n",
    "#!python -m spacy download en_core_web_sm\n",
    "#!pip install spacymoji\n",
    "\n",
    "import spacy\n",
    "from spacymoji import Emoji\n",
    "\n",
    "nlp = spacy.load(\"en_core_web_sm\")\n",
    "emoji = Emoji(nlp)\n",
    "nlp.add_pipe(\"emoji\", first=True)\n",
    "\n",
    "nlp.pipe_names"
   ]
  },
  {
   "cell_type": "markdown",
   "metadata": {},
   "source": [
    "### Cher"
   ]
  },
  {
   "cell_type": "code",
   "execution_count": 261,
   "metadata": {},
   "outputs": [
    {
     "data": {
      "text/html": [
       "<div>\n",
       "<style scoped>\n",
       "    .dataframe tbody tr th:only-of-type {\n",
       "        vertical-align: middle;\n",
       "    }\n",
       "\n",
       "    .dataframe tbody tr th {\n",
       "        vertical-align: top;\n",
       "    }\n",
       "\n",
       "    .dataframe thead th {\n",
       "        text-align: right;\n",
       "    }\n",
       "</style>\n",
       "<table border=\"1\" class=\"dataframe\">\n",
       "  <thead>\n",
       "    <tr style=\"text-align: right;\">\n",
       "      <th></th>\n",
       "      <th>artist</th>\n",
       "      <th>description</th>\n",
       "      <th>tokens</th>\n",
       "    </tr>\n",
       "  </thead>\n",
       "  <tbody>\n",
       "    <tr>\n",
       "      <th>470661</th>\n",
       "      <td>cher</td>\n",
       "      <td>20😱,she/her, shy, pan🏳️‍🌈. ❤️’s music, kpop, M...</td>\n",
       "      <td>20😱sheher shy pan🏳️‍🌈 ❤️’s music kpop multista...</td>\n",
       "    </tr>\n",
       "    <tr>\n",
       "      <th>608685</th>\n",
       "      <td>cher</td>\n",
       "      <td>Eternal love, the stars above, all there is an...</td>\n",
       "      <td>eternal love the stars above all there is and ...</td>\n",
       "    </tr>\n",
       "    <tr>\n",
       "      <th>2586128</th>\n",
       "      <td>cher</td>\n",
       "      <td>Peter Andre follows :). Matt Goss follows :) C...</td>\n",
       "      <td>peter andre follows  matt goss follows  chesne...</td>\n",
       "    </tr>\n",
       "    <tr>\n",
       "      <th>1437593</th>\n",
       "      <td>cher</td>\n",
       "      <td>We are just two friends trying to navigate thi...</td>\n",
       "      <td>we are just two friends trying to navigate thi...</td>\n",
       "    </tr>\n",
       "    <tr>\n",
       "      <th>313010</th>\n",
       "      <td>cher</td>\n",
       "      <td>Looking for #GoodTrouble. DJT and the GOP are ...</td>\n",
       "      <td>looking for #goodtrouble djt and the gop are s...</td>\n",
       "    </tr>\n",
       "  </tbody>\n",
       "</table>\n",
       "</div>"
      ],
      "text/plain": [
       "        artist                                        description  \\\n",
       "470661    cher  20😱,she/her, shy, pan🏳️‍🌈. ❤️’s music, kpop, M...   \n",
       "608685    cher  Eternal love, the stars above, all there is an...   \n",
       "2586128   cher  Peter Andre follows :). Matt Goss follows :) C...   \n",
       "1437593   cher  We are just two friends trying to navigate thi...   \n",
       "313010    cher  Looking for #GoodTrouble. DJT and the GOP are ...   \n",
       "\n",
       "                                                    tokens  \n",
       "470661   20😱sheher shy pan🏳️‍🌈 ❤️’s music kpop multista...  \n",
       "608685   eternal love the stars above all there is and ...  \n",
       "2586128  peter andre follows  matt goss follows  chesne...  \n",
       "1437593  we are just two friends trying to navigate thi...  \n",
       "313010   looking for #goodtrouble djt and the gop are s...  "
      ]
     },
     "execution_count": 261,
     "metadata": {},
     "output_type": "execute_result"
    }
   ],
   "source": [
    "df_twitter_cher.head()"
   ]
  },
  {
   "cell_type": "code",
   "execution_count": null,
   "metadata": {},
   "outputs": [],
   "source": [
    "# your code here\n",
    "\n",
    "# Extract Emojis from each string\n",
    "\n",
    "def extract_emojies(x):\n",
    "    doc = nlp(x['tokens']) #with emojis\n",
    "    emojis = [token.df_twitter_cher for token in doc if token._.is_emoji]\n",
    "    \n",
    "    return emojis\n",
    "\n",
    "emojies_df = df.apply(extract_emojies,axis=1)\n",
    "emojies_df"
   ]
  },
  {
   "cell_type": "code",
   "execution_count": 277,
   "metadata": {},
   "outputs": [
    {
     "data": {
      "text/html": [
       "<div>\n",
       "<style scoped>\n",
       "    .dataframe tbody tr th:only-of-type {\n",
       "        vertical-align: middle;\n",
       "    }\n",
       "\n",
       "    .dataframe tbody tr th {\n",
       "        vertical-align: top;\n",
       "    }\n",
       "\n",
       "    .dataframe thead th {\n",
       "        text-align: right;\n",
       "    }\n",
       "</style>\n",
       "<table border=\"1\" class=\"dataframe\">\n",
       "  <thead>\n",
       "    <tr style=\"text-align: right;\">\n",
       "      <th></th>\n",
       "      <th>emojies</th>\n",
       "    </tr>\n",
       "  </thead>\n",
       "  <tbody>\n",
       "    <tr>\n",
       "      <th>0</th>\n",
       "      <td>😱</td>\n",
       "    </tr>\n",
       "    <tr>\n",
       "      <th>1</th>\n",
       "      <td>🏳️‍🌈</td>\n",
       "    </tr>\n",
       "    <tr>\n",
       "      <th>2</th>\n",
       "      <td>❤️</td>\n",
       "    </tr>\n",
       "    <tr>\n",
       "      <th>3</th>\n",
       "      <td>👽</td>\n",
       "    </tr>\n",
       "    <tr>\n",
       "      <th>4</th>\n",
       "      <td>🙏</td>\n",
       "    </tr>\n",
       "  </tbody>\n",
       "</table>\n",
       "</div>"
      ],
      "text/plain": [
       "  emojies\n",
       "0       😱\n",
       "1    🏳️‍🌈\n",
       "2      ❤️\n",
       "3       👽\n",
       "4       🙏"
      ]
     },
     "execution_count": 277,
     "metadata": {},
     "output_type": "execute_result"
    }
   ],
   "source": [
    "import re\n",
    "import regex\n",
    "import emoji\n",
    "\n",
    "def split_count(text):\n",
    "    emoji_list = []\n",
    "    data = regex.findall(r'\\X', text)\n",
    "    for word in data:\n",
    "        if any(char in emoji.UNICODE_EMOJI['en'] for char in word):\n",
    "            emoji_list.append(word)\n",
    "    \n",
    "    return emoji_list\n",
    "\n",
    "text = df_twitter_cher['tokens']\n",
    "emoji_list= [] \n",
    "for t in text:\n",
    "    emoji_list=emoji_list+split_count(t)\n",
    "\n",
    "\n",
    "from collections import Counter\n",
    "\n",
    "#print(Counter(emoji_list))\n",
    "\n",
    "df_emoji_cher = pd.DataFrame(emoji_list, columns=['emojies'])\n",
    "df_emoji_cher.head()"
   ]
  },
  {
   "cell_type": "code",
   "execution_count": 295,
   "metadata": {},
   "outputs": [
    {
     "data": {
      "text/html": [
       "<div>\n",
       "<style scoped>\n",
       "    .dataframe tbody tr th:only-of-type {\n",
       "        vertical-align: middle;\n",
       "    }\n",
       "\n",
       "    .dataframe tbody tr th {\n",
       "        vertical-align: top;\n",
       "    }\n",
       "\n",
       "    .dataframe thead th {\n",
       "        text-align: right;\n",
       "    }\n",
       "</style>\n",
       "<table border=\"1\" class=\"dataframe\">\n",
       "  <thead>\n",
       "    <tr style=\"text-align: right;\">\n",
       "      <th></th>\n",
       "      <th>Emoji</th>\n",
       "      <th>Count</th>\n",
       "    </tr>\n",
       "  </thead>\n",
       "  <tbody>\n",
       "    <tr>\n",
       "      <th>0</th>\n",
       "      <td>🐺</td>\n",
       "      <td>1</td>\n",
       "    </tr>\n",
       "    <tr>\n",
       "      <th>1</th>\n",
       "      <td>♌︎</td>\n",
       "      <td>1</td>\n",
       "    </tr>\n",
       "    <tr>\n",
       "      <th>2</th>\n",
       "      <td>💓</td>\n",
       "      <td>1</td>\n",
       "    </tr>\n",
       "    <tr>\n",
       "      <th>3</th>\n",
       "      <td>🏳️‍🌈</td>\n",
       "      <td>1</td>\n",
       "    </tr>\n",
       "    <tr>\n",
       "      <th>4</th>\n",
       "      <td>❤️</td>\n",
       "      <td>1</td>\n",
       "    </tr>\n",
       "  </tbody>\n",
       "</table>\n",
       "</div>"
      ],
      "text/plain": [
       "  Emoji  Count\n",
       "0     🐺      1\n",
       "1    ♌︎      1\n",
       "2     💓      1\n",
       "3  🏳️‍🌈      1\n",
       "4    ❤️      1"
      ]
     },
     "execution_count": 295,
     "metadata": {},
     "output_type": "execute_result"
    }
   ],
   "source": [
    "emoji_counts_cher = (df_emoji_cher\n",
    "                .apply(pd.Series) #breaks up the list into seperate columns \n",
    "                .stack() #collapses each column into one column\n",
    "                .value_counts() #counts the frequency of each item\n",
    "                .rename('Count')\n",
    "                .sort_values()\n",
    "                .reset_index()\n",
    "                .rename(columns={'index':'Emoji'}))\n",
    "\n",
    "emoji_counts_cher.head()"
   ]
  },
  {
   "cell_type": "code",
   "execution_count": 324,
   "metadata": {},
   "outputs": [
    {
     "data": {
      "application/vnd.plotly.v1+json": {
       "config": {
        "plotlyServerURL": "https://plot.ly"
       },
       "data": [
        {
         "marker": {
          "color": "white"
         },
         "mode": "markers+text",
         "name": "Emoji Counts",
         "orientation": "h",
         "text": [
          "🐺",
          "♌︎",
          "💓",
          "🏳️‍🌈",
          "❤️",
          "👽",
          "🙏",
          "👀",
          "🙏🏾",
          "✌🏾",
          "💯",
          "😜",
          "🤷🏾‍♂️",
          "🤔",
          "🤣",
          "🤬",
          "😷",
          "♑︎",
          "♟",
          "🧡",
          "🤓",
          "❣️",
          "😱",
          "😈",
          "♈︎",
          "🌳",
          "♑",
          "🙂",
          "❤",
          "👻",
          "😂",
          "🤍",
          "🎤",
          "✋",
          "🌸",
          "✨",
          "💜",
          "😍",
          "🎶",
          "🌿",
          "💚",
          "🔥"
         ],
         "textfont": {
          "size": 20
         },
         "textposition": "top center",
         "type": "scatter",
         "x": [
          1,
          1,
          1,
          1,
          1,
          1,
          1,
          1,
          1,
          1,
          1,
          1,
          1,
          1,
          1,
          1,
          1,
          1,
          1,
          1,
          1,
          1,
          1,
          1,
          1,
          1,
          1,
          1,
          1,
          1,
          1,
          1,
          1,
          1,
          1,
          2,
          2,
          2,
          2,
          2,
          3,
          3
         ],
         "y": [
          "🐺",
          "♌︎",
          "💓",
          "🏳️‍🌈",
          "❤️",
          "👽",
          "🙏",
          "👀",
          "🙏🏾",
          "✌🏾",
          "💯",
          "😜",
          "🤷🏾‍♂️",
          "🤔",
          "🤣",
          "🤬",
          "😷",
          "♑︎",
          "♟",
          "🧡",
          "🤓",
          "❣️",
          "😱",
          "😈",
          "♈︎",
          "🌳",
          "♑",
          "🙂",
          "❤",
          "👻",
          "😂",
          "🤍",
          "🎤",
          "✋",
          "🌸",
          "✨",
          "💜",
          "😍",
          "🎶",
          "🌿",
          "💚",
          "🔥"
         ]
        }
       ],
       "layout": {
        "height": 1050,
        "template": {
         "data": {
          "bar": [
           {
            "error_x": {
             "color": "rgb(36,36,36)"
            },
            "error_y": {
             "color": "rgb(36,36,36)"
            },
            "marker": {
             "line": {
              "color": "white",
              "width": 0.5
             },
             "pattern": {
              "fillmode": "overlay",
              "size": 10,
              "solidity": 0.2
             }
            },
            "type": "bar"
           }
          ],
          "barpolar": [
           {
            "marker": {
             "line": {
              "color": "white",
              "width": 0.5
             },
             "pattern": {
              "fillmode": "overlay",
              "size": 10,
              "solidity": 0.2
             }
            },
            "type": "barpolar"
           }
          ],
          "carpet": [
           {
            "aaxis": {
             "endlinecolor": "rgb(36,36,36)",
             "gridcolor": "white",
             "linecolor": "white",
             "minorgridcolor": "white",
             "startlinecolor": "rgb(36,36,36)"
            },
            "baxis": {
             "endlinecolor": "rgb(36,36,36)",
             "gridcolor": "white",
             "linecolor": "white",
             "minorgridcolor": "white",
             "startlinecolor": "rgb(36,36,36)"
            },
            "type": "carpet"
           }
          ],
          "choropleth": [
           {
            "colorbar": {
             "outlinewidth": 1,
             "tickcolor": "rgb(36,36,36)",
             "ticks": "outside"
            },
            "type": "choropleth"
           }
          ],
          "contour": [
           {
            "colorbar": {
             "outlinewidth": 1,
             "tickcolor": "rgb(36,36,36)",
             "ticks": "outside"
            },
            "colorscale": [
             [
              0,
              "#440154"
             ],
             [
              0.1111111111111111,
              "#482878"
             ],
             [
              0.2222222222222222,
              "#3e4989"
             ],
             [
              0.3333333333333333,
              "#31688e"
             ],
             [
              0.4444444444444444,
              "#26828e"
             ],
             [
              0.5555555555555556,
              "#1f9e89"
             ],
             [
              0.6666666666666666,
              "#35b779"
             ],
             [
              0.7777777777777778,
              "#6ece58"
             ],
             [
              0.8888888888888888,
              "#b5de2b"
             ],
             [
              1,
              "#fde725"
             ]
            ],
            "type": "contour"
           }
          ],
          "contourcarpet": [
           {
            "colorbar": {
             "outlinewidth": 1,
             "tickcolor": "rgb(36,36,36)",
             "ticks": "outside"
            },
            "type": "contourcarpet"
           }
          ],
          "heatmap": [
           {
            "colorbar": {
             "outlinewidth": 1,
             "tickcolor": "rgb(36,36,36)",
             "ticks": "outside"
            },
            "colorscale": [
             [
              0,
              "#440154"
             ],
             [
              0.1111111111111111,
              "#482878"
             ],
             [
              0.2222222222222222,
              "#3e4989"
             ],
             [
              0.3333333333333333,
              "#31688e"
             ],
             [
              0.4444444444444444,
              "#26828e"
             ],
             [
              0.5555555555555556,
              "#1f9e89"
             ],
             [
              0.6666666666666666,
              "#35b779"
             ],
             [
              0.7777777777777778,
              "#6ece58"
             ],
             [
              0.8888888888888888,
              "#b5de2b"
             ],
             [
              1,
              "#fde725"
             ]
            ],
            "type": "heatmap"
           }
          ],
          "heatmapgl": [
           {
            "colorbar": {
             "outlinewidth": 1,
             "tickcolor": "rgb(36,36,36)",
             "ticks": "outside"
            },
            "colorscale": [
             [
              0,
              "#440154"
             ],
             [
              0.1111111111111111,
              "#482878"
             ],
             [
              0.2222222222222222,
              "#3e4989"
             ],
             [
              0.3333333333333333,
              "#31688e"
             ],
             [
              0.4444444444444444,
              "#26828e"
             ],
             [
              0.5555555555555556,
              "#1f9e89"
             ],
             [
              0.6666666666666666,
              "#35b779"
             ],
             [
              0.7777777777777778,
              "#6ece58"
             ],
             [
              0.8888888888888888,
              "#b5de2b"
             ],
             [
              1,
              "#fde725"
             ]
            ],
            "type": "heatmapgl"
           }
          ],
          "histogram": [
           {
            "marker": {
             "line": {
              "color": "white",
              "width": 0.6
             }
            },
            "type": "histogram"
           }
          ],
          "histogram2d": [
           {
            "colorbar": {
             "outlinewidth": 1,
             "tickcolor": "rgb(36,36,36)",
             "ticks": "outside"
            },
            "colorscale": [
             [
              0,
              "#440154"
             ],
             [
              0.1111111111111111,
              "#482878"
             ],
             [
              0.2222222222222222,
              "#3e4989"
             ],
             [
              0.3333333333333333,
              "#31688e"
             ],
             [
              0.4444444444444444,
              "#26828e"
             ],
             [
              0.5555555555555556,
              "#1f9e89"
             ],
             [
              0.6666666666666666,
              "#35b779"
             ],
             [
              0.7777777777777778,
              "#6ece58"
             ],
             [
              0.8888888888888888,
              "#b5de2b"
             ],
             [
              1,
              "#fde725"
             ]
            ],
            "type": "histogram2d"
           }
          ],
          "histogram2dcontour": [
           {
            "colorbar": {
             "outlinewidth": 1,
             "tickcolor": "rgb(36,36,36)",
             "ticks": "outside"
            },
            "colorscale": [
             [
              0,
              "#440154"
             ],
             [
              0.1111111111111111,
              "#482878"
             ],
             [
              0.2222222222222222,
              "#3e4989"
             ],
             [
              0.3333333333333333,
              "#31688e"
             ],
             [
              0.4444444444444444,
              "#26828e"
             ],
             [
              0.5555555555555556,
              "#1f9e89"
             ],
             [
              0.6666666666666666,
              "#35b779"
             ],
             [
              0.7777777777777778,
              "#6ece58"
             ],
             [
              0.8888888888888888,
              "#b5de2b"
             ],
             [
              1,
              "#fde725"
             ]
            ],
            "type": "histogram2dcontour"
           }
          ],
          "mesh3d": [
           {
            "colorbar": {
             "outlinewidth": 1,
             "tickcolor": "rgb(36,36,36)",
             "ticks": "outside"
            },
            "type": "mesh3d"
           }
          ],
          "parcoords": [
           {
            "line": {
             "colorbar": {
              "outlinewidth": 1,
              "tickcolor": "rgb(36,36,36)",
              "ticks": "outside"
             }
            },
            "type": "parcoords"
           }
          ],
          "pie": [
           {
            "automargin": true,
            "type": "pie"
           }
          ],
          "scatter": [
           {
            "fillpattern": {
             "fillmode": "overlay",
             "size": 10,
             "solidity": 0.2
            },
            "type": "scatter"
           }
          ],
          "scatter3d": [
           {
            "line": {
             "colorbar": {
              "outlinewidth": 1,
              "tickcolor": "rgb(36,36,36)",
              "ticks": "outside"
             }
            },
            "marker": {
             "colorbar": {
              "outlinewidth": 1,
              "tickcolor": "rgb(36,36,36)",
              "ticks": "outside"
             }
            },
            "type": "scatter3d"
           }
          ],
          "scattercarpet": [
           {
            "marker": {
             "colorbar": {
              "outlinewidth": 1,
              "tickcolor": "rgb(36,36,36)",
              "ticks": "outside"
             }
            },
            "type": "scattercarpet"
           }
          ],
          "scattergeo": [
           {
            "marker": {
             "colorbar": {
              "outlinewidth": 1,
              "tickcolor": "rgb(36,36,36)",
              "ticks": "outside"
             }
            },
            "type": "scattergeo"
           }
          ],
          "scattergl": [
           {
            "marker": {
             "colorbar": {
              "outlinewidth": 1,
              "tickcolor": "rgb(36,36,36)",
              "ticks": "outside"
             }
            },
            "type": "scattergl"
           }
          ],
          "scattermapbox": [
           {
            "marker": {
             "colorbar": {
              "outlinewidth": 1,
              "tickcolor": "rgb(36,36,36)",
              "ticks": "outside"
             }
            },
            "type": "scattermapbox"
           }
          ],
          "scatterpolar": [
           {
            "marker": {
             "colorbar": {
              "outlinewidth": 1,
              "tickcolor": "rgb(36,36,36)",
              "ticks": "outside"
             }
            },
            "type": "scatterpolar"
           }
          ],
          "scatterpolargl": [
           {
            "marker": {
             "colorbar": {
              "outlinewidth": 1,
              "tickcolor": "rgb(36,36,36)",
              "ticks": "outside"
             }
            },
            "type": "scatterpolargl"
           }
          ],
          "scatterternary": [
           {
            "marker": {
             "colorbar": {
              "outlinewidth": 1,
              "tickcolor": "rgb(36,36,36)",
              "ticks": "outside"
             }
            },
            "type": "scatterternary"
           }
          ],
          "surface": [
           {
            "colorbar": {
             "outlinewidth": 1,
             "tickcolor": "rgb(36,36,36)",
             "ticks": "outside"
            },
            "colorscale": [
             [
              0,
              "#440154"
             ],
             [
              0.1111111111111111,
              "#482878"
             ],
             [
              0.2222222222222222,
              "#3e4989"
             ],
             [
              0.3333333333333333,
              "#31688e"
             ],
             [
              0.4444444444444444,
              "#26828e"
             ],
             [
              0.5555555555555556,
              "#1f9e89"
             ],
             [
              0.6666666666666666,
              "#35b779"
             ],
             [
              0.7777777777777778,
              "#6ece58"
             ],
             [
              0.8888888888888888,
              "#b5de2b"
             ],
             [
              1,
              "#fde725"
             ]
            ],
            "type": "surface"
           }
          ],
          "table": [
           {
            "cells": {
             "fill": {
              "color": "rgb(237,237,237)"
             },
             "line": {
              "color": "white"
             }
            },
            "header": {
             "fill": {
              "color": "rgb(217,217,217)"
             },
             "line": {
              "color": "white"
             }
            },
            "type": "table"
           }
          ]
         },
         "layout": {
          "annotationdefaults": {
           "arrowhead": 0,
           "arrowwidth": 1
          },
          "autotypenumbers": "strict",
          "coloraxis": {
           "colorbar": {
            "outlinewidth": 1,
            "tickcolor": "rgb(36,36,36)",
            "ticks": "outside"
           }
          },
          "colorscale": {
           "diverging": [
            [
             0,
             "rgb(103,0,31)"
            ],
            [
             0.1,
             "rgb(178,24,43)"
            ],
            [
             0.2,
             "rgb(214,96,77)"
            ],
            [
             0.3,
             "rgb(244,165,130)"
            ],
            [
             0.4,
             "rgb(253,219,199)"
            ],
            [
             0.5,
             "rgb(247,247,247)"
            ],
            [
             0.6,
             "rgb(209,229,240)"
            ],
            [
             0.7,
             "rgb(146,197,222)"
            ],
            [
             0.8,
             "rgb(67,147,195)"
            ],
            [
             0.9,
             "rgb(33,102,172)"
            ],
            [
             1,
             "rgb(5,48,97)"
            ]
           ],
           "sequential": [
            [
             0,
             "#440154"
            ],
            [
             0.1111111111111111,
             "#482878"
            ],
            [
             0.2222222222222222,
             "#3e4989"
            ],
            [
             0.3333333333333333,
             "#31688e"
            ],
            [
             0.4444444444444444,
             "#26828e"
            ],
            [
             0.5555555555555556,
             "#1f9e89"
            ],
            [
             0.6666666666666666,
             "#35b779"
            ],
            [
             0.7777777777777778,
             "#6ece58"
            ],
            [
             0.8888888888888888,
             "#b5de2b"
            ],
            [
             1,
             "#fde725"
            ]
           ],
           "sequentialminus": [
            [
             0,
             "#440154"
            ],
            [
             0.1111111111111111,
             "#482878"
            ],
            [
             0.2222222222222222,
             "#3e4989"
            ],
            [
             0.3333333333333333,
             "#31688e"
            ],
            [
             0.4444444444444444,
             "#26828e"
            ],
            [
             0.5555555555555556,
             "#1f9e89"
            ],
            [
             0.6666666666666666,
             "#35b779"
            ],
            [
             0.7777777777777778,
             "#6ece58"
            ],
            [
             0.8888888888888888,
             "#b5de2b"
            ],
            [
             1,
             "#fde725"
            ]
           ]
          },
          "colorway": [
           "#1F77B4",
           "#FF7F0E",
           "#2CA02C",
           "#D62728",
           "#9467BD",
           "#8C564B",
           "#E377C2",
           "#7F7F7F",
           "#BCBD22",
           "#17BECF"
          ],
          "font": {
           "color": "rgb(36,36,36)"
          },
          "geo": {
           "bgcolor": "white",
           "lakecolor": "white",
           "landcolor": "white",
           "showlakes": true,
           "showland": true,
           "subunitcolor": "white"
          },
          "hoverlabel": {
           "align": "left"
          },
          "hovermode": "closest",
          "mapbox": {
           "style": "light"
          },
          "paper_bgcolor": "white",
          "plot_bgcolor": "white",
          "polar": {
           "angularaxis": {
            "gridcolor": "rgb(232,232,232)",
            "linecolor": "rgb(36,36,36)",
            "showgrid": false,
            "showline": true,
            "ticks": "outside"
           },
           "bgcolor": "white",
           "radialaxis": {
            "gridcolor": "rgb(232,232,232)",
            "linecolor": "rgb(36,36,36)",
            "showgrid": false,
            "showline": true,
            "ticks": "outside"
           }
          },
          "scene": {
           "xaxis": {
            "backgroundcolor": "white",
            "gridcolor": "rgb(232,232,232)",
            "gridwidth": 2,
            "linecolor": "rgb(36,36,36)",
            "showbackground": true,
            "showgrid": false,
            "showline": true,
            "ticks": "outside",
            "zeroline": false,
            "zerolinecolor": "rgb(36,36,36)"
           },
           "yaxis": {
            "backgroundcolor": "white",
            "gridcolor": "rgb(232,232,232)",
            "gridwidth": 2,
            "linecolor": "rgb(36,36,36)",
            "showbackground": true,
            "showgrid": false,
            "showline": true,
            "ticks": "outside",
            "zeroline": false,
            "zerolinecolor": "rgb(36,36,36)"
           },
           "zaxis": {
            "backgroundcolor": "white",
            "gridcolor": "rgb(232,232,232)",
            "gridwidth": 2,
            "linecolor": "rgb(36,36,36)",
            "showbackground": true,
            "showgrid": false,
            "showline": true,
            "ticks": "outside",
            "zeroline": false,
            "zerolinecolor": "rgb(36,36,36)"
           }
          },
          "shapedefaults": {
           "fillcolor": "black",
           "line": {
            "width": 0
           },
           "opacity": 0.3
          },
          "ternary": {
           "aaxis": {
            "gridcolor": "rgb(232,232,232)",
            "linecolor": "rgb(36,36,36)",
            "showgrid": false,
            "showline": true,
            "ticks": "outside"
           },
           "baxis": {
            "gridcolor": "rgb(232,232,232)",
            "linecolor": "rgb(36,36,36)",
            "showgrid": false,
            "showline": true,
            "ticks": "outside"
           },
           "bgcolor": "white",
           "caxis": {
            "gridcolor": "rgb(232,232,232)",
            "linecolor": "rgb(36,36,36)",
            "showgrid": false,
            "showline": true,
            "ticks": "outside"
           }
          },
          "title": {
           "x": 0.05
          },
          "xaxis": {
           "automargin": true,
           "gridcolor": "rgb(232,232,232)",
           "linecolor": "rgb(36,36,36)",
           "showgrid": false,
           "showline": true,
           "ticks": "outside",
           "title": {
            "standoff": 15
           },
           "zeroline": false,
           "zerolinecolor": "rgb(36,36,36)"
          },
          "yaxis": {
           "automargin": true,
           "gridcolor": "rgb(232,232,232)",
           "linecolor": "rgb(36,36,36)",
           "showgrid": false,
           "showline": true,
           "ticks": "outside",
           "title": {
            "standoff": 15
           },
           "zeroline": false,
           "zerolinecolor": "rgb(36,36,36)"
          }
         }
        },
        "width": 700,
        "xaxis": {
         "title": {
          "text": "Number of Times Used"
         }
        },
        "yaxis": {
         "range": [
          0,
          43
         ],
         "visible": false
        }
       }
      },
      "text/html": [
       "<div>                            <div id=\"73182df0-03dd-4722-977b-f7afbd763533\" class=\"plotly-graph-div\" style=\"height:1050px; width:700px;\"></div>            <script type=\"text/javascript\">                require([\"plotly\"], function(Plotly) {                    window.PLOTLYENV=window.PLOTLYENV || {};                                    if (document.getElementById(\"73182df0-03dd-4722-977b-f7afbd763533\")) {                    Plotly.newPlot(                        \"73182df0-03dd-4722-977b-f7afbd763533\",                        [{\"marker\":{\"color\":\"white\"},\"mode\":\"markers+text\",\"name\":\"Emoji Counts\",\"orientation\":\"h\",\"text\":[\"\\ud83d\\udc3a\",\"\\u264c\\ufe0e\",\"\\ud83d\\udc93\",\"\\ud83c\\udff3\\ufe0f\\u200d\\ud83c\\udf08\",\"\\u2764\\ufe0f\",\"\\ud83d\\udc7d\",\"\\ud83d\\ude4f\",\"\\ud83d\\udc40\",\"\\ud83d\\ude4f\\ud83c\\udffe\",\"\\u270c\\ud83c\\udffe\",\"\\ud83d\\udcaf\",\"\\ud83d\\ude1c\",\"\\ud83e\\udd37\\ud83c\\udffe\\u200d\\u2642\\ufe0f\",\"\\ud83e\\udd14\",\"\\ud83e\\udd23\",\"\\ud83e\\udd2c\",\"\\ud83d\\ude37\",\"\\u2651\\ufe0e\",\"\\u265f\",\"\\ud83e\\udde1\",\"\\ud83e\\udd13\",\"\\u2763\\ufe0f\",\"\\ud83d\\ude31\",\"\\ud83d\\ude08\",\"\\u2648\\ufe0e\",\"\\ud83c\\udf33\",\"\\u2651\",\"\\ud83d\\ude42\",\"\\u2764\",\"\\ud83d\\udc7b\",\"\\ud83d\\ude02\",\"\\ud83e\\udd0d\",\"\\ud83c\\udfa4\",\"\\u270b\",\"\\ud83c\\udf38\",\"\\u2728\",\"\\ud83d\\udc9c\",\"\\ud83d\\ude0d\",\"\\ud83c\\udfb6\",\"\\ud83c\\udf3f\",\"\\ud83d\\udc9a\",\"\\ud83d\\udd25\"],\"textfont\":{\"size\":20},\"textposition\":\"top center\",\"x\":[1,1,1,1,1,1,1,1,1,1,1,1,1,1,1,1,1,1,1,1,1,1,1,1,1,1,1,1,1,1,1,1,1,1,1,2,2,2,2,2,3,3],\"y\":[\"\\ud83d\\udc3a\",\"\\u264c\\ufe0e\",\"\\ud83d\\udc93\",\"\\ud83c\\udff3\\ufe0f\\u200d\\ud83c\\udf08\",\"\\u2764\\ufe0f\",\"\\ud83d\\udc7d\",\"\\ud83d\\ude4f\",\"\\ud83d\\udc40\",\"\\ud83d\\ude4f\\ud83c\\udffe\",\"\\u270c\\ud83c\\udffe\",\"\\ud83d\\udcaf\",\"\\ud83d\\ude1c\",\"\\ud83e\\udd37\\ud83c\\udffe\\u200d\\u2642\\ufe0f\",\"\\ud83e\\udd14\",\"\\ud83e\\udd23\",\"\\ud83e\\udd2c\",\"\\ud83d\\ude37\",\"\\u2651\\ufe0e\",\"\\u265f\",\"\\ud83e\\udde1\",\"\\ud83e\\udd13\",\"\\u2763\\ufe0f\",\"\\ud83d\\ude31\",\"\\ud83d\\ude08\",\"\\u2648\\ufe0e\",\"\\ud83c\\udf33\",\"\\u2651\",\"\\ud83d\\ude42\",\"\\u2764\",\"\\ud83d\\udc7b\",\"\\ud83d\\ude02\",\"\\ud83e\\udd0d\",\"\\ud83c\\udfa4\",\"\\u270b\",\"\\ud83c\\udf38\",\"\\u2728\",\"\\ud83d\\udc9c\",\"\\ud83d\\ude0d\",\"\\ud83c\\udfb6\",\"\\ud83c\\udf3f\",\"\\ud83d\\udc9a\",\"\\ud83d\\udd25\"],\"type\":\"scatter\"}],                        {\"template\":{\"data\":{\"barpolar\":[{\"marker\":{\"line\":{\"color\":\"white\",\"width\":0.5},\"pattern\":{\"fillmode\":\"overlay\",\"size\":10,\"solidity\":0.2}},\"type\":\"barpolar\"}],\"bar\":[{\"error_x\":{\"color\":\"rgb(36,36,36)\"},\"error_y\":{\"color\":\"rgb(36,36,36)\"},\"marker\":{\"line\":{\"color\":\"white\",\"width\":0.5},\"pattern\":{\"fillmode\":\"overlay\",\"size\":10,\"solidity\":0.2}},\"type\":\"bar\"}],\"carpet\":[{\"aaxis\":{\"endlinecolor\":\"rgb(36,36,36)\",\"gridcolor\":\"white\",\"linecolor\":\"white\",\"minorgridcolor\":\"white\",\"startlinecolor\":\"rgb(36,36,36)\"},\"baxis\":{\"endlinecolor\":\"rgb(36,36,36)\",\"gridcolor\":\"white\",\"linecolor\":\"white\",\"minorgridcolor\":\"white\",\"startlinecolor\":\"rgb(36,36,36)\"},\"type\":\"carpet\"}],\"choropleth\":[{\"colorbar\":{\"outlinewidth\":1,\"tickcolor\":\"rgb(36,36,36)\",\"ticks\":\"outside\"},\"type\":\"choropleth\"}],\"contourcarpet\":[{\"colorbar\":{\"outlinewidth\":1,\"tickcolor\":\"rgb(36,36,36)\",\"ticks\":\"outside\"},\"type\":\"contourcarpet\"}],\"contour\":[{\"colorbar\":{\"outlinewidth\":1,\"tickcolor\":\"rgb(36,36,36)\",\"ticks\":\"outside\"},\"colorscale\":[[0.0,\"#440154\"],[0.1111111111111111,\"#482878\"],[0.2222222222222222,\"#3e4989\"],[0.3333333333333333,\"#31688e\"],[0.4444444444444444,\"#26828e\"],[0.5555555555555556,\"#1f9e89\"],[0.6666666666666666,\"#35b779\"],[0.7777777777777778,\"#6ece58\"],[0.8888888888888888,\"#b5de2b\"],[1.0,\"#fde725\"]],\"type\":\"contour\"}],\"heatmapgl\":[{\"colorbar\":{\"outlinewidth\":1,\"tickcolor\":\"rgb(36,36,36)\",\"ticks\":\"outside\"},\"colorscale\":[[0.0,\"#440154\"],[0.1111111111111111,\"#482878\"],[0.2222222222222222,\"#3e4989\"],[0.3333333333333333,\"#31688e\"],[0.4444444444444444,\"#26828e\"],[0.5555555555555556,\"#1f9e89\"],[0.6666666666666666,\"#35b779\"],[0.7777777777777778,\"#6ece58\"],[0.8888888888888888,\"#b5de2b\"],[1.0,\"#fde725\"]],\"type\":\"heatmapgl\"}],\"heatmap\":[{\"colorbar\":{\"outlinewidth\":1,\"tickcolor\":\"rgb(36,36,36)\",\"ticks\":\"outside\"},\"colorscale\":[[0.0,\"#440154\"],[0.1111111111111111,\"#482878\"],[0.2222222222222222,\"#3e4989\"],[0.3333333333333333,\"#31688e\"],[0.4444444444444444,\"#26828e\"],[0.5555555555555556,\"#1f9e89\"],[0.6666666666666666,\"#35b779\"],[0.7777777777777778,\"#6ece58\"],[0.8888888888888888,\"#b5de2b\"],[1.0,\"#fde725\"]],\"type\":\"heatmap\"}],\"histogram2dcontour\":[{\"colorbar\":{\"outlinewidth\":1,\"tickcolor\":\"rgb(36,36,36)\",\"ticks\":\"outside\"},\"colorscale\":[[0.0,\"#440154\"],[0.1111111111111111,\"#482878\"],[0.2222222222222222,\"#3e4989\"],[0.3333333333333333,\"#31688e\"],[0.4444444444444444,\"#26828e\"],[0.5555555555555556,\"#1f9e89\"],[0.6666666666666666,\"#35b779\"],[0.7777777777777778,\"#6ece58\"],[0.8888888888888888,\"#b5de2b\"],[1.0,\"#fde725\"]],\"type\":\"histogram2dcontour\"}],\"histogram2d\":[{\"colorbar\":{\"outlinewidth\":1,\"tickcolor\":\"rgb(36,36,36)\",\"ticks\":\"outside\"},\"colorscale\":[[0.0,\"#440154\"],[0.1111111111111111,\"#482878\"],[0.2222222222222222,\"#3e4989\"],[0.3333333333333333,\"#31688e\"],[0.4444444444444444,\"#26828e\"],[0.5555555555555556,\"#1f9e89\"],[0.6666666666666666,\"#35b779\"],[0.7777777777777778,\"#6ece58\"],[0.8888888888888888,\"#b5de2b\"],[1.0,\"#fde725\"]],\"type\":\"histogram2d\"}],\"histogram\":[{\"marker\":{\"line\":{\"color\":\"white\",\"width\":0.6}},\"type\":\"histogram\"}],\"mesh3d\":[{\"colorbar\":{\"outlinewidth\":1,\"tickcolor\":\"rgb(36,36,36)\",\"ticks\":\"outside\"},\"type\":\"mesh3d\"}],\"parcoords\":[{\"line\":{\"colorbar\":{\"outlinewidth\":1,\"tickcolor\":\"rgb(36,36,36)\",\"ticks\":\"outside\"}},\"type\":\"parcoords\"}],\"pie\":[{\"automargin\":true,\"type\":\"pie\"}],\"scatter3d\":[{\"line\":{\"colorbar\":{\"outlinewidth\":1,\"tickcolor\":\"rgb(36,36,36)\",\"ticks\":\"outside\"}},\"marker\":{\"colorbar\":{\"outlinewidth\":1,\"tickcolor\":\"rgb(36,36,36)\",\"ticks\":\"outside\"}},\"type\":\"scatter3d\"}],\"scattercarpet\":[{\"marker\":{\"colorbar\":{\"outlinewidth\":1,\"tickcolor\":\"rgb(36,36,36)\",\"ticks\":\"outside\"}},\"type\":\"scattercarpet\"}],\"scattergeo\":[{\"marker\":{\"colorbar\":{\"outlinewidth\":1,\"tickcolor\":\"rgb(36,36,36)\",\"ticks\":\"outside\"}},\"type\":\"scattergeo\"}],\"scattergl\":[{\"marker\":{\"colorbar\":{\"outlinewidth\":1,\"tickcolor\":\"rgb(36,36,36)\",\"ticks\":\"outside\"}},\"type\":\"scattergl\"}],\"scattermapbox\":[{\"marker\":{\"colorbar\":{\"outlinewidth\":1,\"tickcolor\":\"rgb(36,36,36)\",\"ticks\":\"outside\"}},\"type\":\"scattermapbox\"}],\"scatterpolargl\":[{\"marker\":{\"colorbar\":{\"outlinewidth\":1,\"tickcolor\":\"rgb(36,36,36)\",\"ticks\":\"outside\"}},\"type\":\"scatterpolargl\"}],\"scatterpolar\":[{\"marker\":{\"colorbar\":{\"outlinewidth\":1,\"tickcolor\":\"rgb(36,36,36)\",\"ticks\":\"outside\"}},\"type\":\"scatterpolar\"}],\"scatter\":[{\"fillpattern\":{\"fillmode\":\"overlay\",\"size\":10,\"solidity\":0.2},\"type\":\"scatter\"}],\"scatterternary\":[{\"marker\":{\"colorbar\":{\"outlinewidth\":1,\"tickcolor\":\"rgb(36,36,36)\",\"ticks\":\"outside\"}},\"type\":\"scatterternary\"}],\"surface\":[{\"colorbar\":{\"outlinewidth\":1,\"tickcolor\":\"rgb(36,36,36)\",\"ticks\":\"outside\"},\"colorscale\":[[0.0,\"#440154\"],[0.1111111111111111,\"#482878\"],[0.2222222222222222,\"#3e4989\"],[0.3333333333333333,\"#31688e\"],[0.4444444444444444,\"#26828e\"],[0.5555555555555556,\"#1f9e89\"],[0.6666666666666666,\"#35b779\"],[0.7777777777777778,\"#6ece58\"],[0.8888888888888888,\"#b5de2b\"],[1.0,\"#fde725\"]],\"type\":\"surface\"}],\"table\":[{\"cells\":{\"fill\":{\"color\":\"rgb(237,237,237)\"},\"line\":{\"color\":\"white\"}},\"header\":{\"fill\":{\"color\":\"rgb(217,217,217)\"},\"line\":{\"color\":\"white\"}},\"type\":\"table\"}]},\"layout\":{\"annotationdefaults\":{\"arrowhead\":0,\"arrowwidth\":1},\"autotypenumbers\":\"strict\",\"coloraxis\":{\"colorbar\":{\"outlinewidth\":1,\"tickcolor\":\"rgb(36,36,36)\",\"ticks\":\"outside\"}},\"colorscale\":{\"diverging\":[[0.0,\"rgb(103,0,31)\"],[0.1,\"rgb(178,24,43)\"],[0.2,\"rgb(214,96,77)\"],[0.3,\"rgb(244,165,130)\"],[0.4,\"rgb(253,219,199)\"],[0.5,\"rgb(247,247,247)\"],[0.6,\"rgb(209,229,240)\"],[0.7,\"rgb(146,197,222)\"],[0.8,\"rgb(67,147,195)\"],[0.9,\"rgb(33,102,172)\"],[1.0,\"rgb(5,48,97)\"]],\"sequential\":[[0.0,\"#440154\"],[0.1111111111111111,\"#482878\"],[0.2222222222222222,\"#3e4989\"],[0.3333333333333333,\"#31688e\"],[0.4444444444444444,\"#26828e\"],[0.5555555555555556,\"#1f9e89\"],[0.6666666666666666,\"#35b779\"],[0.7777777777777778,\"#6ece58\"],[0.8888888888888888,\"#b5de2b\"],[1.0,\"#fde725\"]],\"sequentialminus\":[[0.0,\"#440154\"],[0.1111111111111111,\"#482878\"],[0.2222222222222222,\"#3e4989\"],[0.3333333333333333,\"#31688e\"],[0.4444444444444444,\"#26828e\"],[0.5555555555555556,\"#1f9e89\"],[0.6666666666666666,\"#35b779\"],[0.7777777777777778,\"#6ece58\"],[0.8888888888888888,\"#b5de2b\"],[1.0,\"#fde725\"]]},\"colorway\":[\"#1F77B4\",\"#FF7F0E\",\"#2CA02C\",\"#D62728\",\"#9467BD\",\"#8C564B\",\"#E377C2\",\"#7F7F7F\",\"#BCBD22\",\"#17BECF\"],\"font\":{\"color\":\"rgb(36,36,36)\"},\"geo\":{\"bgcolor\":\"white\",\"lakecolor\":\"white\",\"landcolor\":\"white\",\"showlakes\":true,\"showland\":true,\"subunitcolor\":\"white\"},\"hoverlabel\":{\"align\":\"left\"},\"hovermode\":\"closest\",\"mapbox\":{\"style\":\"light\"},\"paper_bgcolor\":\"white\",\"plot_bgcolor\":\"white\",\"polar\":{\"angularaxis\":{\"gridcolor\":\"rgb(232,232,232)\",\"linecolor\":\"rgb(36,36,36)\",\"showgrid\":false,\"showline\":true,\"ticks\":\"outside\"},\"bgcolor\":\"white\",\"radialaxis\":{\"gridcolor\":\"rgb(232,232,232)\",\"linecolor\":\"rgb(36,36,36)\",\"showgrid\":false,\"showline\":true,\"ticks\":\"outside\"}},\"scene\":{\"xaxis\":{\"backgroundcolor\":\"white\",\"gridcolor\":\"rgb(232,232,232)\",\"gridwidth\":2,\"linecolor\":\"rgb(36,36,36)\",\"showbackground\":true,\"showgrid\":false,\"showline\":true,\"ticks\":\"outside\",\"zeroline\":false,\"zerolinecolor\":\"rgb(36,36,36)\"},\"yaxis\":{\"backgroundcolor\":\"white\",\"gridcolor\":\"rgb(232,232,232)\",\"gridwidth\":2,\"linecolor\":\"rgb(36,36,36)\",\"showbackground\":true,\"showgrid\":false,\"showline\":true,\"ticks\":\"outside\",\"zeroline\":false,\"zerolinecolor\":\"rgb(36,36,36)\"},\"zaxis\":{\"backgroundcolor\":\"white\",\"gridcolor\":\"rgb(232,232,232)\",\"gridwidth\":2,\"linecolor\":\"rgb(36,36,36)\",\"showbackground\":true,\"showgrid\":false,\"showline\":true,\"ticks\":\"outside\",\"zeroline\":false,\"zerolinecolor\":\"rgb(36,36,36)\"}},\"shapedefaults\":{\"fillcolor\":\"black\",\"line\":{\"width\":0},\"opacity\":0.3},\"ternary\":{\"aaxis\":{\"gridcolor\":\"rgb(232,232,232)\",\"linecolor\":\"rgb(36,36,36)\",\"showgrid\":false,\"showline\":true,\"ticks\":\"outside\"},\"baxis\":{\"gridcolor\":\"rgb(232,232,232)\",\"linecolor\":\"rgb(36,36,36)\",\"showgrid\":false,\"showline\":true,\"ticks\":\"outside\"},\"bgcolor\":\"white\",\"caxis\":{\"gridcolor\":\"rgb(232,232,232)\",\"linecolor\":\"rgb(36,36,36)\",\"showgrid\":false,\"showline\":true,\"ticks\":\"outside\"}},\"title\":{\"x\":0.05},\"xaxis\":{\"automargin\":true,\"gridcolor\":\"rgb(232,232,232)\",\"linecolor\":\"rgb(36,36,36)\",\"showgrid\":false,\"showline\":true,\"ticks\":\"outside\",\"title\":{\"standoff\":15},\"zeroline\":false,\"zerolinecolor\":\"rgb(36,36,36)\"},\"yaxis\":{\"automargin\":true,\"gridcolor\":\"rgb(232,232,232)\",\"linecolor\":\"rgb(36,36,36)\",\"showgrid\":false,\"showline\":true,\"ticks\":\"outside\",\"title\":{\"standoff\":15},\"zeroline\":false,\"zerolinecolor\":\"rgb(36,36,36)\"}}},\"yaxis\":{\"visible\":false,\"range\":[0,43]},\"xaxis\":{\"title\":{\"text\":\"Number of Times Used\"}},\"height\":1050,\"width\":700},                        {\"responsive\": true}                    ).then(function(){\n",
       "                            \n",
       "var gd = document.getElementById('73182df0-03dd-4722-977b-f7afbd763533');\n",
       "var x = new MutationObserver(function (mutations, observer) {{\n",
       "        var display = window.getComputedStyle(gd).display;\n",
       "        if (!display || display === 'none') {{\n",
       "            console.log([gd, 'removed!']);\n",
       "            Plotly.purge(gd);\n",
       "            observer.disconnect();\n",
       "        }}\n",
       "}});\n",
       "\n",
       "// Listen for the removal of the full notebook cells\n",
       "var notebookContainer = gd.closest('#notebook-container');\n",
       "if (notebookContainer) {{\n",
       "    x.observe(notebookContainer, {childList: true});\n",
       "}}\n",
       "\n",
       "// Listen for the clearing of the current output cell\n",
       "var outputEl = gd.closest('.output');\n",
       "if (outputEl) {{\n",
       "    x.observe(outputEl, {childList: true});\n",
       "}}\n",
       "\n",
       "                        })                };                });            </script>        </div>"
      ]
     },
     "metadata": {},
     "output_type": "display_data"
    }
   ],
   "source": [
    "import plotly.graph_objects as go\n",
    "import plotly.io as pio\n",
    "import plotly.express as px\n",
    "import plotly\n",
    "\n",
    "fig = go.Figure()\n",
    "\n",
    "fig.add_trace(go.Scatter(y=emoji_counts_cher['Emoji'],\n",
    "                x=emoji_counts['Count'],\n",
    "                name='Emoji Counts',\n",
    "                marker_color='white',\n",
    "                orientation='h',\n",
    "                text=emoji_counts['Emoji'],\n",
    "                textposition='top center',\n",
    "                mode='markers+text',\n",
    "                textfont=dict(size=20),\n",
    "                ))\n",
    "\n",
    "fig.update_yaxes(visible =False, range=[0, len(emoji_counts_cher)+1])\n",
    "fig.update_xaxes(title='Number of Times Used')\n",
    "\n",
    "fig.update_layout(\n",
    "    template='simple_white', \n",
    "    height=len(emoji_counts_cher)*25, width = 700)"
   ]
  },
  {
   "cell_type": "code",
   "execution_count": 347,
   "metadata": {},
   "outputs": [
    {
     "data": {
      "text/html": [
       "<div>\n",
       "<style scoped>\n",
       "    .dataframe tbody tr th:only-of-type {\n",
       "        vertical-align: middle;\n",
       "    }\n",
       "\n",
       "    .dataframe tbody tr th {\n",
       "        vertical-align: top;\n",
       "    }\n",
       "\n",
       "    .dataframe thead th {\n",
       "        text-align: right;\n",
       "    }\n",
       "</style>\n",
       "<table border=\"1\" class=\"dataframe\">\n",
       "  <thead>\n",
       "    <tr style=\"text-align: right;\">\n",
       "      <th></th>\n",
       "      <th>tokens</th>\n",
       "      <th>Bing_Liu_Score</th>\n",
       "    </tr>\n",
       "  </thead>\n",
       "  <tbody>\n",
       "    <tr>\n",
       "      <th>720072</th>\n",
       "      <td>gaudeamus igitur iuvenes dum sumus hic et nunc...</td>\n",
       "      <td>0.0000</td>\n",
       "    </tr>\n",
       "    <tr>\n",
       "      <th>608685</th>\n",
       "      <td>eternal love the stars above all there is and ...</td>\n",
       "      <td>0.0625</td>\n",
       "    </tr>\n",
       "    <tr>\n",
       "      <th>354473</th>\n",
       "      <td>ths🐺🧡💚 freshman dork🤓</td>\n",
       "      <td>0.0000</td>\n",
       "    </tr>\n",
       "    <tr>\n",
       "      <th>903975</th>\n",
       "      <td>անի 🤍♟</td>\n",
       "      <td>0.0000</td>\n",
       "    </tr>\n",
       "    <tr>\n",
       "      <th>1562515</th>\n",
       "      <td>ciencia ocultismo música libros networking ani...</td>\n",
       "      <td>0.0000</td>\n",
       "    </tr>\n",
       "    <tr>\n",
       "      <th>669110</th>\n",
       "      <td>il mio vero io vaga altrovelontanovaga ancora ...</td>\n",
       "      <td>0.0000</td>\n",
       "    </tr>\n",
       "    <tr>\n",
       "      <th>1170829</th>\n",
       "      <td>strangely holy ♑︎ ♈︎ ♌︎</td>\n",
       "      <td>0.0000</td>\n",
       "    </tr>\n",
       "    <tr>\n",
       "      <th>3888186</th>\n",
       "      <td>comunicadora social y publicista ✨ insta valen...</td>\n",
       "      <td>0.0000</td>\n",
       "    </tr>\n",
       "    <tr>\n",
       "      <th>313010</th>\n",
       "      <td>looking for #goodtrouble djt and the gop are s...</td>\n",
       "      <td>0.0000</td>\n",
       "    </tr>\n",
       "    <tr>\n",
       "      <th>2586128</th>\n",
       "      <td>peter andre follows  matt goss follows  chesne...</td>\n",
       "      <td>0.0000</td>\n",
       "    </tr>\n",
       "  </tbody>\n",
       "</table>\n",
       "</div>"
      ],
      "text/plain": [
       "                                                    tokens  Bing_Liu_Score\n",
       "720072   gaudeamus igitur iuvenes dum sumus hic et nunc...          0.0000\n",
       "608685   eternal love the stars above all there is and ...          0.0625\n",
       "354473                               ths🐺🧡💚 freshman dork🤓          0.0000\n",
       "903975                                              անի 🤍♟          0.0000\n",
       "1562515  ciencia ocultismo música libros networking ani...          0.0000\n",
       "669110   il mio vero io vaga altrovelontanovaga ancora ...          0.0000\n",
       "1170829                            strangely holy ♑︎ ♈︎ ♌︎          0.0000\n",
       "3888186  comunicadora social y publicista ✨ insta valen...          0.0000\n",
       "313010   looking for #goodtrouble djt and the gop are s...          0.0000\n",
       "2586128  peter andre follows  matt goss follows  chesne...          0.0000"
      ]
     },
     "execution_count": 347,
     "metadata": {},
     "output_type": "execute_result"
    }
   ],
   "source": [
    "df_twitter_cher['Bing_Liu_Score'] = df_twitter_cher['tokens'].apply(bing_liu_score)\n",
    "df_twitter_cher[['tokens','Bing_Liu_Score']].sample(10, random_state=0)"
   ]
  },
  {
   "cell_type": "code",
   "execution_count": 348,
   "metadata": {},
   "outputs": [
    {
     "data": {
      "text/plain": [
       "1.2546897546897545e-07"
      ]
     },
     "execution_count": 348,
     "metadata": {},
     "output_type": "execute_result"
    }
   ],
   "source": [
    "total_score_cher = df_twitter_cher['Bing_Liu_Score'].sum()\n",
    "total_score_cher\n",
    "\n",
    "ave_sentiment_cher = 0.414047619047619/3300000\n",
    "ave_sentiment_cher"
   ]
  },
  {
   "cell_type": "markdown",
   "metadata": {},
   "source": [
    "### Robyn"
   ]
  },
  {
   "cell_type": "code",
   "execution_count": 319,
   "metadata": {},
   "outputs": [
    {
     "data": {
      "text/html": [
       "<div>\n",
       "<style scoped>\n",
       "    .dataframe tbody tr th:only-of-type {\n",
       "        vertical-align: middle;\n",
       "    }\n",
       "\n",
       "    .dataframe tbody tr th {\n",
       "        vertical-align: top;\n",
       "    }\n",
       "\n",
       "    .dataframe thead th {\n",
       "        text-align: right;\n",
       "    }\n",
       "</style>\n",
       "<table border=\"1\" class=\"dataframe\">\n",
       "  <thead>\n",
       "    <tr style=\"text-align: right;\">\n",
       "      <th></th>\n",
       "      <th>emojies</th>\n",
       "    </tr>\n",
       "  </thead>\n",
       "  <tbody>\n",
       "    <tr>\n",
       "      <th>0</th>\n",
       "      <td>✨</td>\n",
       "    </tr>\n",
       "    <tr>\n",
       "      <th>1</th>\n",
       "      <td>💍</td>\n",
       "    </tr>\n",
       "    <tr>\n",
       "      <th>2</th>\n",
       "      <td>👶</td>\n",
       "    </tr>\n",
       "    <tr>\n",
       "      <th>3</th>\n",
       "      <td>❤</td>\n",
       "    </tr>\n",
       "    <tr>\n",
       "      <th>4</th>\n",
       "      <td>♥</td>\n",
       "    </tr>\n",
       "  </tbody>\n",
       "</table>\n",
       "</div>"
      ],
      "text/plain": [
       "  emojies\n",
       "0       ✨\n",
       "1       💍\n",
       "2       👶\n",
       "3       ❤\n",
       "4       ♥"
      ]
     },
     "execution_count": 319,
     "metadata": {},
     "output_type": "execute_result"
    }
   ],
   "source": [
    "import re\n",
    "import regex\n",
    "import emoji\n",
    "\n",
    "def split_count(text):\n",
    "    emoji_list = []\n",
    "    data = regex.findall(r'\\X', text)\n",
    "    for word in data:\n",
    "        if any(char in emoji.UNICODE_EMOJI['en'] for char in word):\n",
    "            emoji_list.append(word)\n",
    "    \n",
    "    return emoji_list\n",
    "\n",
    "text = df_twitter_robyn['tokens']\n",
    "emoji_list= [] \n",
    "for t in text:\n",
    "    emoji_list=emoji_list+split_count(t)\n",
    "\n",
    "\n",
    "from collections import Counter\n",
    "\n",
    "#print(Counter(emoji_list))\n",
    "\n",
    "df_emoji_robyn = pd.DataFrame(emoji_list, columns=['emojies'])\n",
    "df_emoji_robyn.head()"
   ]
  },
  {
   "cell_type": "code",
   "execution_count": 327,
   "metadata": {},
   "outputs": [
    {
     "data": {
      "text/html": [
       "<div>\n",
       "<style scoped>\n",
       "    .dataframe tbody tr th:only-of-type {\n",
       "        vertical-align: middle;\n",
       "    }\n",
       "\n",
       "    .dataframe tbody tr th {\n",
       "        vertical-align: top;\n",
       "    }\n",
       "\n",
       "    .dataframe thead th {\n",
       "        text-align: right;\n",
       "    }\n",
       "</style>\n",
       "<table border=\"1\" class=\"dataframe\">\n",
       "  <thead>\n",
       "    <tr style=\"text-align: right;\">\n",
       "      <th></th>\n",
       "      <th>Emoji</th>\n",
       "      <th>Count</th>\n",
       "    </tr>\n",
       "  </thead>\n",
       "  <tbody>\n",
       "    <tr>\n",
       "      <th>0</th>\n",
       "      <td>♉️</td>\n",
       "      <td>1</td>\n",
       "    </tr>\n",
       "    <tr>\n",
       "      <th>1</th>\n",
       "      <td>🦦</td>\n",
       "      <td>1</td>\n",
       "    </tr>\n",
       "    <tr>\n",
       "      <th>2</th>\n",
       "      <td>♑️</td>\n",
       "      <td>1</td>\n",
       "    </tr>\n",
       "    <tr>\n",
       "      <th>3</th>\n",
       "      <td>🏳️‍🌈</td>\n",
       "      <td>1</td>\n",
       "    </tr>\n",
       "    <tr>\n",
       "      <th>4</th>\n",
       "      <td>☀️</td>\n",
       "      <td>1</td>\n",
       "    </tr>\n",
       "  </tbody>\n",
       "</table>\n",
       "</div>"
      ],
      "text/plain": [
       "  Emoji  Count\n",
       "0    ♉️      1\n",
       "1     🦦      1\n",
       "2    ♑️      1\n",
       "3  🏳️‍🌈      1\n",
       "4    ☀️      1"
      ]
     },
     "execution_count": 327,
     "metadata": {},
     "output_type": "execute_result"
    }
   ],
   "source": [
    "emoji_counts_robyn = (df_emoji_robyn\n",
    "                .apply(pd.Series) #breaks up the list into seperate columns \n",
    "                .stack() #collapses each column into one column\n",
    "                .value_counts() #counts the frequency of each item\n",
    "                .rename('Count')\n",
    "                .sort_values()\n",
    "                .reset_index()\n",
    "                .rename(columns={'index':'Emoji'}))\n",
    "\n",
    "emoji_counts_robyn.head()"
   ]
  },
  {
   "cell_type": "code",
   "execution_count": 326,
   "metadata": {},
   "outputs": [
    {
     "data": {
      "application/vnd.plotly.v1+json": {
       "config": {
        "plotlyServerURL": "https://plot.ly"
       },
       "data": [
        {
         "marker": {
          "color": "white"
         },
         "mode": "markers+text",
         "name": "Emoji Counts",
         "orientation": "h",
         "text": [
          "🐺",
          "♌︎",
          "💓",
          "🏳️‍🌈",
          "❤️",
          "👽",
          "🙏",
          "👀",
          "🙏🏾",
          "✌🏾",
          "💯",
          "😜",
          "🤷🏾‍♂️",
          "🤔",
          "🤣",
          "🤬",
          "😷",
          "♑︎",
          "♟",
          "🧡",
          "🤓",
          "❣️",
          "😱",
          "😈",
          "♈︎",
          "🌳",
          "♑",
          "🙂",
          "❤",
          "👻",
          "😂",
          "🤍",
          "🎤",
          "✋",
          "🌸",
          "✨",
          "💜",
          "😍",
          "🎶",
          "🌿",
          "💚",
          "🔥"
         ],
         "textfont": {
          "size": 20
         },
         "textposition": "top center",
         "type": "scatter",
         "x": [
          1,
          1,
          1,
          1,
          1,
          1,
          1,
          1,
          1,
          1,
          1,
          1,
          1,
          1,
          2,
          2,
          2,
          4,
          4,
          4
         ],
         "y": [
          "♉️",
          "🦦",
          "♑️",
          "🏳️‍🌈",
          "☀️",
          "💓",
          "💍",
          "✨",
          "👨🏼‍🤝‍👨🏻",
          "👍",
          "⚫️",
          "✌️",
          "😇",
          "👶",
          "🙄",
          "🌈",
          "☺",
          "♥",
          "❤",
          "❤️"
         ]
        }
       ],
       "layout": {
        "height": 500,
        "template": {
         "data": {
          "bar": [
           {
            "error_x": {
             "color": "rgb(36,36,36)"
            },
            "error_y": {
             "color": "rgb(36,36,36)"
            },
            "marker": {
             "line": {
              "color": "white",
              "width": 0.5
             },
             "pattern": {
              "fillmode": "overlay",
              "size": 10,
              "solidity": 0.2
             }
            },
            "type": "bar"
           }
          ],
          "barpolar": [
           {
            "marker": {
             "line": {
              "color": "white",
              "width": 0.5
             },
             "pattern": {
              "fillmode": "overlay",
              "size": 10,
              "solidity": 0.2
             }
            },
            "type": "barpolar"
           }
          ],
          "carpet": [
           {
            "aaxis": {
             "endlinecolor": "rgb(36,36,36)",
             "gridcolor": "white",
             "linecolor": "white",
             "minorgridcolor": "white",
             "startlinecolor": "rgb(36,36,36)"
            },
            "baxis": {
             "endlinecolor": "rgb(36,36,36)",
             "gridcolor": "white",
             "linecolor": "white",
             "minorgridcolor": "white",
             "startlinecolor": "rgb(36,36,36)"
            },
            "type": "carpet"
           }
          ],
          "choropleth": [
           {
            "colorbar": {
             "outlinewidth": 1,
             "tickcolor": "rgb(36,36,36)",
             "ticks": "outside"
            },
            "type": "choropleth"
           }
          ],
          "contour": [
           {
            "colorbar": {
             "outlinewidth": 1,
             "tickcolor": "rgb(36,36,36)",
             "ticks": "outside"
            },
            "colorscale": [
             [
              0,
              "#440154"
             ],
             [
              0.1111111111111111,
              "#482878"
             ],
             [
              0.2222222222222222,
              "#3e4989"
             ],
             [
              0.3333333333333333,
              "#31688e"
             ],
             [
              0.4444444444444444,
              "#26828e"
             ],
             [
              0.5555555555555556,
              "#1f9e89"
             ],
             [
              0.6666666666666666,
              "#35b779"
             ],
             [
              0.7777777777777778,
              "#6ece58"
             ],
             [
              0.8888888888888888,
              "#b5de2b"
             ],
             [
              1,
              "#fde725"
             ]
            ],
            "type": "contour"
           }
          ],
          "contourcarpet": [
           {
            "colorbar": {
             "outlinewidth": 1,
             "tickcolor": "rgb(36,36,36)",
             "ticks": "outside"
            },
            "type": "contourcarpet"
           }
          ],
          "heatmap": [
           {
            "colorbar": {
             "outlinewidth": 1,
             "tickcolor": "rgb(36,36,36)",
             "ticks": "outside"
            },
            "colorscale": [
             [
              0,
              "#440154"
             ],
             [
              0.1111111111111111,
              "#482878"
             ],
             [
              0.2222222222222222,
              "#3e4989"
             ],
             [
              0.3333333333333333,
              "#31688e"
             ],
             [
              0.4444444444444444,
              "#26828e"
             ],
             [
              0.5555555555555556,
              "#1f9e89"
             ],
             [
              0.6666666666666666,
              "#35b779"
             ],
             [
              0.7777777777777778,
              "#6ece58"
             ],
             [
              0.8888888888888888,
              "#b5de2b"
             ],
             [
              1,
              "#fde725"
             ]
            ],
            "type": "heatmap"
           }
          ],
          "heatmapgl": [
           {
            "colorbar": {
             "outlinewidth": 1,
             "tickcolor": "rgb(36,36,36)",
             "ticks": "outside"
            },
            "colorscale": [
             [
              0,
              "#440154"
             ],
             [
              0.1111111111111111,
              "#482878"
             ],
             [
              0.2222222222222222,
              "#3e4989"
             ],
             [
              0.3333333333333333,
              "#31688e"
             ],
             [
              0.4444444444444444,
              "#26828e"
             ],
             [
              0.5555555555555556,
              "#1f9e89"
             ],
             [
              0.6666666666666666,
              "#35b779"
             ],
             [
              0.7777777777777778,
              "#6ece58"
             ],
             [
              0.8888888888888888,
              "#b5de2b"
             ],
             [
              1,
              "#fde725"
             ]
            ],
            "type": "heatmapgl"
           }
          ],
          "histogram": [
           {
            "marker": {
             "line": {
              "color": "white",
              "width": 0.6
             }
            },
            "type": "histogram"
           }
          ],
          "histogram2d": [
           {
            "colorbar": {
             "outlinewidth": 1,
             "tickcolor": "rgb(36,36,36)",
             "ticks": "outside"
            },
            "colorscale": [
             [
              0,
              "#440154"
             ],
             [
              0.1111111111111111,
              "#482878"
             ],
             [
              0.2222222222222222,
              "#3e4989"
             ],
             [
              0.3333333333333333,
              "#31688e"
             ],
             [
              0.4444444444444444,
              "#26828e"
             ],
             [
              0.5555555555555556,
              "#1f9e89"
             ],
             [
              0.6666666666666666,
              "#35b779"
             ],
             [
              0.7777777777777778,
              "#6ece58"
             ],
             [
              0.8888888888888888,
              "#b5de2b"
             ],
             [
              1,
              "#fde725"
             ]
            ],
            "type": "histogram2d"
           }
          ],
          "histogram2dcontour": [
           {
            "colorbar": {
             "outlinewidth": 1,
             "tickcolor": "rgb(36,36,36)",
             "ticks": "outside"
            },
            "colorscale": [
             [
              0,
              "#440154"
             ],
             [
              0.1111111111111111,
              "#482878"
             ],
             [
              0.2222222222222222,
              "#3e4989"
             ],
             [
              0.3333333333333333,
              "#31688e"
             ],
             [
              0.4444444444444444,
              "#26828e"
             ],
             [
              0.5555555555555556,
              "#1f9e89"
             ],
             [
              0.6666666666666666,
              "#35b779"
             ],
             [
              0.7777777777777778,
              "#6ece58"
             ],
             [
              0.8888888888888888,
              "#b5de2b"
             ],
             [
              1,
              "#fde725"
             ]
            ],
            "type": "histogram2dcontour"
           }
          ],
          "mesh3d": [
           {
            "colorbar": {
             "outlinewidth": 1,
             "tickcolor": "rgb(36,36,36)",
             "ticks": "outside"
            },
            "type": "mesh3d"
           }
          ],
          "parcoords": [
           {
            "line": {
             "colorbar": {
              "outlinewidth": 1,
              "tickcolor": "rgb(36,36,36)",
              "ticks": "outside"
             }
            },
            "type": "parcoords"
           }
          ],
          "pie": [
           {
            "automargin": true,
            "type": "pie"
           }
          ],
          "scatter": [
           {
            "fillpattern": {
             "fillmode": "overlay",
             "size": 10,
             "solidity": 0.2
            },
            "type": "scatter"
           }
          ],
          "scatter3d": [
           {
            "line": {
             "colorbar": {
              "outlinewidth": 1,
              "tickcolor": "rgb(36,36,36)",
              "ticks": "outside"
             }
            },
            "marker": {
             "colorbar": {
              "outlinewidth": 1,
              "tickcolor": "rgb(36,36,36)",
              "ticks": "outside"
             }
            },
            "type": "scatter3d"
           }
          ],
          "scattercarpet": [
           {
            "marker": {
             "colorbar": {
              "outlinewidth": 1,
              "tickcolor": "rgb(36,36,36)",
              "ticks": "outside"
             }
            },
            "type": "scattercarpet"
           }
          ],
          "scattergeo": [
           {
            "marker": {
             "colorbar": {
              "outlinewidth": 1,
              "tickcolor": "rgb(36,36,36)",
              "ticks": "outside"
             }
            },
            "type": "scattergeo"
           }
          ],
          "scattergl": [
           {
            "marker": {
             "colorbar": {
              "outlinewidth": 1,
              "tickcolor": "rgb(36,36,36)",
              "ticks": "outside"
             }
            },
            "type": "scattergl"
           }
          ],
          "scattermapbox": [
           {
            "marker": {
             "colorbar": {
              "outlinewidth": 1,
              "tickcolor": "rgb(36,36,36)",
              "ticks": "outside"
             }
            },
            "type": "scattermapbox"
           }
          ],
          "scatterpolar": [
           {
            "marker": {
             "colorbar": {
              "outlinewidth": 1,
              "tickcolor": "rgb(36,36,36)",
              "ticks": "outside"
             }
            },
            "type": "scatterpolar"
           }
          ],
          "scatterpolargl": [
           {
            "marker": {
             "colorbar": {
              "outlinewidth": 1,
              "tickcolor": "rgb(36,36,36)",
              "ticks": "outside"
             }
            },
            "type": "scatterpolargl"
           }
          ],
          "scatterternary": [
           {
            "marker": {
             "colorbar": {
              "outlinewidth": 1,
              "tickcolor": "rgb(36,36,36)",
              "ticks": "outside"
             }
            },
            "type": "scatterternary"
           }
          ],
          "surface": [
           {
            "colorbar": {
             "outlinewidth": 1,
             "tickcolor": "rgb(36,36,36)",
             "ticks": "outside"
            },
            "colorscale": [
             [
              0,
              "#440154"
             ],
             [
              0.1111111111111111,
              "#482878"
             ],
             [
              0.2222222222222222,
              "#3e4989"
             ],
             [
              0.3333333333333333,
              "#31688e"
             ],
             [
              0.4444444444444444,
              "#26828e"
             ],
             [
              0.5555555555555556,
              "#1f9e89"
             ],
             [
              0.6666666666666666,
              "#35b779"
             ],
             [
              0.7777777777777778,
              "#6ece58"
             ],
             [
              0.8888888888888888,
              "#b5de2b"
             ],
             [
              1,
              "#fde725"
             ]
            ],
            "type": "surface"
           }
          ],
          "table": [
           {
            "cells": {
             "fill": {
              "color": "rgb(237,237,237)"
             },
             "line": {
              "color": "white"
             }
            },
            "header": {
             "fill": {
              "color": "rgb(217,217,217)"
             },
             "line": {
              "color": "white"
             }
            },
            "type": "table"
           }
          ]
         },
         "layout": {
          "annotationdefaults": {
           "arrowhead": 0,
           "arrowwidth": 1
          },
          "autotypenumbers": "strict",
          "coloraxis": {
           "colorbar": {
            "outlinewidth": 1,
            "tickcolor": "rgb(36,36,36)",
            "ticks": "outside"
           }
          },
          "colorscale": {
           "diverging": [
            [
             0,
             "rgb(103,0,31)"
            ],
            [
             0.1,
             "rgb(178,24,43)"
            ],
            [
             0.2,
             "rgb(214,96,77)"
            ],
            [
             0.3,
             "rgb(244,165,130)"
            ],
            [
             0.4,
             "rgb(253,219,199)"
            ],
            [
             0.5,
             "rgb(247,247,247)"
            ],
            [
             0.6,
             "rgb(209,229,240)"
            ],
            [
             0.7,
             "rgb(146,197,222)"
            ],
            [
             0.8,
             "rgb(67,147,195)"
            ],
            [
             0.9,
             "rgb(33,102,172)"
            ],
            [
             1,
             "rgb(5,48,97)"
            ]
           ],
           "sequential": [
            [
             0,
             "#440154"
            ],
            [
             0.1111111111111111,
             "#482878"
            ],
            [
             0.2222222222222222,
             "#3e4989"
            ],
            [
             0.3333333333333333,
             "#31688e"
            ],
            [
             0.4444444444444444,
             "#26828e"
            ],
            [
             0.5555555555555556,
             "#1f9e89"
            ],
            [
             0.6666666666666666,
             "#35b779"
            ],
            [
             0.7777777777777778,
             "#6ece58"
            ],
            [
             0.8888888888888888,
             "#b5de2b"
            ],
            [
             1,
             "#fde725"
            ]
           ],
           "sequentialminus": [
            [
             0,
             "#440154"
            ],
            [
             0.1111111111111111,
             "#482878"
            ],
            [
             0.2222222222222222,
             "#3e4989"
            ],
            [
             0.3333333333333333,
             "#31688e"
            ],
            [
             0.4444444444444444,
             "#26828e"
            ],
            [
             0.5555555555555556,
             "#1f9e89"
            ],
            [
             0.6666666666666666,
             "#35b779"
            ],
            [
             0.7777777777777778,
             "#6ece58"
            ],
            [
             0.8888888888888888,
             "#b5de2b"
            ],
            [
             1,
             "#fde725"
            ]
           ]
          },
          "colorway": [
           "#1F77B4",
           "#FF7F0E",
           "#2CA02C",
           "#D62728",
           "#9467BD",
           "#8C564B",
           "#E377C2",
           "#7F7F7F",
           "#BCBD22",
           "#17BECF"
          ],
          "font": {
           "color": "rgb(36,36,36)"
          },
          "geo": {
           "bgcolor": "white",
           "lakecolor": "white",
           "landcolor": "white",
           "showlakes": true,
           "showland": true,
           "subunitcolor": "white"
          },
          "hoverlabel": {
           "align": "left"
          },
          "hovermode": "closest",
          "mapbox": {
           "style": "light"
          },
          "paper_bgcolor": "white",
          "plot_bgcolor": "white",
          "polar": {
           "angularaxis": {
            "gridcolor": "rgb(232,232,232)",
            "linecolor": "rgb(36,36,36)",
            "showgrid": false,
            "showline": true,
            "ticks": "outside"
           },
           "bgcolor": "white",
           "radialaxis": {
            "gridcolor": "rgb(232,232,232)",
            "linecolor": "rgb(36,36,36)",
            "showgrid": false,
            "showline": true,
            "ticks": "outside"
           }
          },
          "scene": {
           "xaxis": {
            "backgroundcolor": "white",
            "gridcolor": "rgb(232,232,232)",
            "gridwidth": 2,
            "linecolor": "rgb(36,36,36)",
            "showbackground": true,
            "showgrid": false,
            "showline": true,
            "ticks": "outside",
            "zeroline": false,
            "zerolinecolor": "rgb(36,36,36)"
           },
           "yaxis": {
            "backgroundcolor": "white",
            "gridcolor": "rgb(232,232,232)",
            "gridwidth": 2,
            "linecolor": "rgb(36,36,36)",
            "showbackground": true,
            "showgrid": false,
            "showline": true,
            "ticks": "outside",
            "zeroline": false,
            "zerolinecolor": "rgb(36,36,36)"
           },
           "zaxis": {
            "backgroundcolor": "white",
            "gridcolor": "rgb(232,232,232)",
            "gridwidth": 2,
            "linecolor": "rgb(36,36,36)",
            "showbackground": true,
            "showgrid": false,
            "showline": true,
            "ticks": "outside",
            "zeroline": false,
            "zerolinecolor": "rgb(36,36,36)"
           }
          },
          "shapedefaults": {
           "fillcolor": "black",
           "line": {
            "width": 0
           },
           "opacity": 0.3
          },
          "ternary": {
           "aaxis": {
            "gridcolor": "rgb(232,232,232)",
            "linecolor": "rgb(36,36,36)",
            "showgrid": false,
            "showline": true,
            "ticks": "outside"
           },
           "baxis": {
            "gridcolor": "rgb(232,232,232)",
            "linecolor": "rgb(36,36,36)",
            "showgrid": false,
            "showline": true,
            "ticks": "outside"
           },
           "bgcolor": "white",
           "caxis": {
            "gridcolor": "rgb(232,232,232)",
            "linecolor": "rgb(36,36,36)",
            "showgrid": false,
            "showline": true,
            "ticks": "outside"
           }
          },
          "title": {
           "x": 0.05
          },
          "xaxis": {
           "automargin": true,
           "gridcolor": "rgb(232,232,232)",
           "linecolor": "rgb(36,36,36)",
           "showgrid": false,
           "showline": true,
           "ticks": "outside",
           "title": {
            "standoff": 15
           },
           "zeroline": false,
           "zerolinecolor": "rgb(36,36,36)"
          },
          "yaxis": {
           "automargin": true,
           "gridcolor": "rgb(232,232,232)",
           "linecolor": "rgb(36,36,36)",
           "showgrid": false,
           "showline": true,
           "ticks": "outside",
           "title": {
            "standoff": 15
           },
           "zeroline": false,
           "zerolinecolor": "rgb(36,36,36)"
          }
         }
        },
        "width": 700,
        "xaxis": {
         "title": {
          "text": "Number of Times Used"
         }
        },
        "yaxis": {
         "range": [
          0,
          21
         ],
         "visible": false
        }
       }
      },
      "text/html": [
       "<div>                            <div id=\"52669177-bba4-488f-8ec4-408556b7bbae\" class=\"plotly-graph-div\" style=\"height:500px; width:700px;\"></div>            <script type=\"text/javascript\">                require([\"plotly\"], function(Plotly) {                    window.PLOTLYENV=window.PLOTLYENV || {};                                    if (document.getElementById(\"52669177-bba4-488f-8ec4-408556b7bbae\")) {                    Plotly.newPlot(                        \"52669177-bba4-488f-8ec4-408556b7bbae\",                        [{\"marker\":{\"color\":\"white\"},\"mode\":\"markers+text\",\"name\":\"Emoji Counts\",\"orientation\":\"h\",\"text\":[\"\\ud83d\\udc3a\",\"\\u264c\\ufe0e\",\"\\ud83d\\udc93\",\"\\ud83c\\udff3\\ufe0f\\u200d\\ud83c\\udf08\",\"\\u2764\\ufe0f\",\"\\ud83d\\udc7d\",\"\\ud83d\\ude4f\",\"\\ud83d\\udc40\",\"\\ud83d\\ude4f\\ud83c\\udffe\",\"\\u270c\\ud83c\\udffe\",\"\\ud83d\\udcaf\",\"\\ud83d\\ude1c\",\"\\ud83e\\udd37\\ud83c\\udffe\\u200d\\u2642\\ufe0f\",\"\\ud83e\\udd14\",\"\\ud83e\\udd23\",\"\\ud83e\\udd2c\",\"\\ud83d\\ude37\",\"\\u2651\\ufe0e\",\"\\u265f\",\"\\ud83e\\udde1\",\"\\ud83e\\udd13\",\"\\u2763\\ufe0f\",\"\\ud83d\\ude31\",\"\\ud83d\\ude08\",\"\\u2648\\ufe0e\",\"\\ud83c\\udf33\",\"\\u2651\",\"\\ud83d\\ude42\",\"\\u2764\",\"\\ud83d\\udc7b\",\"\\ud83d\\ude02\",\"\\ud83e\\udd0d\",\"\\ud83c\\udfa4\",\"\\u270b\",\"\\ud83c\\udf38\",\"\\u2728\",\"\\ud83d\\udc9c\",\"\\ud83d\\ude0d\",\"\\ud83c\\udfb6\",\"\\ud83c\\udf3f\",\"\\ud83d\\udc9a\",\"\\ud83d\\udd25\"],\"textfont\":{\"size\":20},\"textposition\":\"top center\",\"x\":[1,1,1,1,1,1,1,1,1,1,1,1,1,1,2,2,2,4,4,4],\"y\":[\"\\u2649\\ufe0f\",\"\\ud83e\\udda6\",\"\\u2651\\ufe0f\",\"\\ud83c\\udff3\\ufe0f\\u200d\\ud83c\\udf08\",\"\\u2600\\ufe0f\",\"\\ud83d\\udc93\",\"\\ud83d\\udc8d\",\"\\u2728\",\"\\ud83d\\udc68\\ud83c\\udffc\\u200d\\ud83e\\udd1d\\u200d\\ud83d\\udc68\\ud83c\\udffb\",\"\\ud83d\\udc4d\",\"\\u26ab\\ufe0f\",\"\\u270c\\ufe0f\",\"\\ud83d\\ude07\",\"\\ud83d\\udc76\",\"\\ud83d\\ude44\",\"\\ud83c\\udf08\",\"\\u263a\",\"\\u2665\",\"\\u2764\",\"\\u2764\\ufe0f\"],\"type\":\"scatter\"}],                        {\"template\":{\"data\":{\"barpolar\":[{\"marker\":{\"line\":{\"color\":\"white\",\"width\":0.5},\"pattern\":{\"fillmode\":\"overlay\",\"size\":10,\"solidity\":0.2}},\"type\":\"barpolar\"}],\"bar\":[{\"error_x\":{\"color\":\"rgb(36,36,36)\"},\"error_y\":{\"color\":\"rgb(36,36,36)\"},\"marker\":{\"line\":{\"color\":\"white\",\"width\":0.5},\"pattern\":{\"fillmode\":\"overlay\",\"size\":10,\"solidity\":0.2}},\"type\":\"bar\"}],\"carpet\":[{\"aaxis\":{\"endlinecolor\":\"rgb(36,36,36)\",\"gridcolor\":\"white\",\"linecolor\":\"white\",\"minorgridcolor\":\"white\",\"startlinecolor\":\"rgb(36,36,36)\"},\"baxis\":{\"endlinecolor\":\"rgb(36,36,36)\",\"gridcolor\":\"white\",\"linecolor\":\"white\",\"minorgridcolor\":\"white\",\"startlinecolor\":\"rgb(36,36,36)\"},\"type\":\"carpet\"}],\"choropleth\":[{\"colorbar\":{\"outlinewidth\":1,\"tickcolor\":\"rgb(36,36,36)\",\"ticks\":\"outside\"},\"type\":\"choropleth\"}],\"contourcarpet\":[{\"colorbar\":{\"outlinewidth\":1,\"tickcolor\":\"rgb(36,36,36)\",\"ticks\":\"outside\"},\"type\":\"contourcarpet\"}],\"contour\":[{\"colorbar\":{\"outlinewidth\":1,\"tickcolor\":\"rgb(36,36,36)\",\"ticks\":\"outside\"},\"colorscale\":[[0.0,\"#440154\"],[0.1111111111111111,\"#482878\"],[0.2222222222222222,\"#3e4989\"],[0.3333333333333333,\"#31688e\"],[0.4444444444444444,\"#26828e\"],[0.5555555555555556,\"#1f9e89\"],[0.6666666666666666,\"#35b779\"],[0.7777777777777778,\"#6ece58\"],[0.8888888888888888,\"#b5de2b\"],[1.0,\"#fde725\"]],\"type\":\"contour\"}],\"heatmapgl\":[{\"colorbar\":{\"outlinewidth\":1,\"tickcolor\":\"rgb(36,36,36)\",\"ticks\":\"outside\"},\"colorscale\":[[0.0,\"#440154\"],[0.1111111111111111,\"#482878\"],[0.2222222222222222,\"#3e4989\"],[0.3333333333333333,\"#31688e\"],[0.4444444444444444,\"#26828e\"],[0.5555555555555556,\"#1f9e89\"],[0.6666666666666666,\"#35b779\"],[0.7777777777777778,\"#6ece58\"],[0.8888888888888888,\"#b5de2b\"],[1.0,\"#fde725\"]],\"type\":\"heatmapgl\"}],\"heatmap\":[{\"colorbar\":{\"outlinewidth\":1,\"tickcolor\":\"rgb(36,36,36)\",\"ticks\":\"outside\"},\"colorscale\":[[0.0,\"#440154\"],[0.1111111111111111,\"#482878\"],[0.2222222222222222,\"#3e4989\"],[0.3333333333333333,\"#31688e\"],[0.4444444444444444,\"#26828e\"],[0.5555555555555556,\"#1f9e89\"],[0.6666666666666666,\"#35b779\"],[0.7777777777777778,\"#6ece58\"],[0.8888888888888888,\"#b5de2b\"],[1.0,\"#fde725\"]],\"type\":\"heatmap\"}],\"histogram2dcontour\":[{\"colorbar\":{\"outlinewidth\":1,\"tickcolor\":\"rgb(36,36,36)\",\"ticks\":\"outside\"},\"colorscale\":[[0.0,\"#440154\"],[0.1111111111111111,\"#482878\"],[0.2222222222222222,\"#3e4989\"],[0.3333333333333333,\"#31688e\"],[0.4444444444444444,\"#26828e\"],[0.5555555555555556,\"#1f9e89\"],[0.6666666666666666,\"#35b779\"],[0.7777777777777778,\"#6ece58\"],[0.8888888888888888,\"#b5de2b\"],[1.0,\"#fde725\"]],\"type\":\"histogram2dcontour\"}],\"histogram2d\":[{\"colorbar\":{\"outlinewidth\":1,\"tickcolor\":\"rgb(36,36,36)\",\"ticks\":\"outside\"},\"colorscale\":[[0.0,\"#440154\"],[0.1111111111111111,\"#482878\"],[0.2222222222222222,\"#3e4989\"],[0.3333333333333333,\"#31688e\"],[0.4444444444444444,\"#26828e\"],[0.5555555555555556,\"#1f9e89\"],[0.6666666666666666,\"#35b779\"],[0.7777777777777778,\"#6ece58\"],[0.8888888888888888,\"#b5de2b\"],[1.0,\"#fde725\"]],\"type\":\"histogram2d\"}],\"histogram\":[{\"marker\":{\"line\":{\"color\":\"white\",\"width\":0.6}},\"type\":\"histogram\"}],\"mesh3d\":[{\"colorbar\":{\"outlinewidth\":1,\"tickcolor\":\"rgb(36,36,36)\",\"ticks\":\"outside\"},\"type\":\"mesh3d\"}],\"parcoords\":[{\"line\":{\"colorbar\":{\"outlinewidth\":1,\"tickcolor\":\"rgb(36,36,36)\",\"ticks\":\"outside\"}},\"type\":\"parcoords\"}],\"pie\":[{\"automargin\":true,\"type\":\"pie\"}],\"scatter3d\":[{\"line\":{\"colorbar\":{\"outlinewidth\":1,\"tickcolor\":\"rgb(36,36,36)\",\"ticks\":\"outside\"}},\"marker\":{\"colorbar\":{\"outlinewidth\":1,\"tickcolor\":\"rgb(36,36,36)\",\"ticks\":\"outside\"}},\"type\":\"scatter3d\"}],\"scattercarpet\":[{\"marker\":{\"colorbar\":{\"outlinewidth\":1,\"tickcolor\":\"rgb(36,36,36)\",\"ticks\":\"outside\"}},\"type\":\"scattercarpet\"}],\"scattergeo\":[{\"marker\":{\"colorbar\":{\"outlinewidth\":1,\"tickcolor\":\"rgb(36,36,36)\",\"ticks\":\"outside\"}},\"type\":\"scattergeo\"}],\"scattergl\":[{\"marker\":{\"colorbar\":{\"outlinewidth\":1,\"tickcolor\":\"rgb(36,36,36)\",\"ticks\":\"outside\"}},\"type\":\"scattergl\"}],\"scattermapbox\":[{\"marker\":{\"colorbar\":{\"outlinewidth\":1,\"tickcolor\":\"rgb(36,36,36)\",\"ticks\":\"outside\"}},\"type\":\"scattermapbox\"}],\"scatterpolargl\":[{\"marker\":{\"colorbar\":{\"outlinewidth\":1,\"tickcolor\":\"rgb(36,36,36)\",\"ticks\":\"outside\"}},\"type\":\"scatterpolargl\"}],\"scatterpolar\":[{\"marker\":{\"colorbar\":{\"outlinewidth\":1,\"tickcolor\":\"rgb(36,36,36)\",\"ticks\":\"outside\"}},\"type\":\"scatterpolar\"}],\"scatter\":[{\"fillpattern\":{\"fillmode\":\"overlay\",\"size\":10,\"solidity\":0.2},\"type\":\"scatter\"}],\"scatterternary\":[{\"marker\":{\"colorbar\":{\"outlinewidth\":1,\"tickcolor\":\"rgb(36,36,36)\",\"ticks\":\"outside\"}},\"type\":\"scatterternary\"}],\"surface\":[{\"colorbar\":{\"outlinewidth\":1,\"tickcolor\":\"rgb(36,36,36)\",\"ticks\":\"outside\"},\"colorscale\":[[0.0,\"#440154\"],[0.1111111111111111,\"#482878\"],[0.2222222222222222,\"#3e4989\"],[0.3333333333333333,\"#31688e\"],[0.4444444444444444,\"#26828e\"],[0.5555555555555556,\"#1f9e89\"],[0.6666666666666666,\"#35b779\"],[0.7777777777777778,\"#6ece58\"],[0.8888888888888888,\"#b5de2b\"],[1.0,\"#fde725\"]],\"type\":\"surface\"}],\"table\":[{\"cells\":{\"fill\":{\"color\":\"rgb(237,237,237)\"},\"line\":{\"color\":\"white\"}},\"header\":{\"fill\":{\"color\":\"rgb(217,217,217)\"},\"line\":{\"color\":\"white\"}},\"type\":\"table\"}]},\"layout\":{\"annotationdefaults\":{\"arrowhead\":0,\"arrowwidth\":1},\"autotypenumbers\":\"strict\",\"coloraxis\":{\"colorbar\":{\"outlinewidth\":1,\"tickcolor\":\"rgb(36,36,36)\",\"ticks\":\"outside\"}},\"colorscale\":{\"diverging\":[[0.0,\"rgb(103,0,31)\"],[0.1,\"rgb(178,24,43)\"],[0.2,\"rgb(214,96,77)\"],[0.3,\"rgb(244,165,130)\"],[0.4,\"rgb(253,219,199)\"],[0.5,\"rgb(247,247,247)\"],[0.6,\"rgb(209,229,240)\"],[0.7,\"rgb(146,197,222)\"],[0.8,\"rgb(67,147,195)\"],[0.9,\"rgb(33,102,172)\"],[1.0,\"rgb(5,48,97)\"]],\"sequential\":[[0.0,\"#440154\"],[0.1111111111111111,\"#482878\"],[0.2222222222222222,\"#3e4989\"],[0.3333333333333333,\"#31688e\"],[0.4444444444444444,\"#26828e\"],[0.5555555555555556,\"#1f9e89\"],[0.6666666666666666,\"#35b779\"],[0.7777777777777778,\"#6ece58\"],[0.8888888888888888,\"#b5de2b\"],[1.0,\"#fde725\"]],\"sequentialminus\":[[0.0,\"#440154\"],[0.1111111111111111,\"#482878\"],[0.2222222222222222,\"#3e4989\"],[0.3333333333333333,\"#31688e\"],[0.4444444444444444,\"#26828e\"],[0.5555555555555556,\"#1f9e89\"],[0.6666666666666666,\"#35b779\"],[0.7777777777777778,\"#6ece58\"],[0.8888888888888888,\"#b5de2b\"],[1.0,\"#fde725\"]]},\"colorway\":[\"#1F77B4\",\"#FF7F0E\",\"#2CA02C\",\"#D62728\",\"#9467BD\",\"#8C564B\",\"#E377C2\",\"#7F7F7F\",\"#BCBD22\",\"#17BECF\"],\"font\":{\"color\":\"rgb(36,36,36)\"},\"geo\":{\"bgcolor\":\"white\",\"lakecolor\":\"white\",\"landcolor\":\"white\",\"showlakes\":true,\"showland\":true,\"subunitcolor\":\"white\"},\"hoverlabel\":{\"align\":\"left\"},\"hovermode\":\"closest\",\"mapbox\":{\"style\":\"light\"},\"paper_bgcolor\":\"white\",\"plot_bgcolor\":\"white\",\"polar\":{\"angularaxis\":{\"gridcolor\":\"rgb(232,232,232)\",\"linecolor\":\"rgb(36,36,36)\",\"showgrid\":false,\"showline\":true,\"ticks\":\"outside\"},\"bgcolor\":\"white\",\"radialaxis\":{\"gridcolor\":\"rgb(232,232,232)\",\"linecolor\":\"rgb(36,36,36)\",\"showgrid\":false,\"showline\":true,\"ticks\":\"outside\"}},\"scene\":{\"xaxis\":{\"backgroundcolor\":\"white\",\"gridcolor\":\"rgb(232,232,232)\",\"gridwidth\":2,\"linecolor\":\"rgb(36,36,36)\",\"showbackground\":true,\"showgrid\":false,\"showline\":true,\"ticks\":\"outside\",\"zeroline\":false,\"zerolinecolor\":\"rgb(36,36,36)\"},\"yaxis\":{\"backgroundcolor\":\"white\",\"gridcolor\":\"rgb(232,232,232)\",\"gridwidth\":2,\"linecolor\":\"rgb(36,36,36)\",\"showbackground\":true,\"showgrid\":false,\"showline\":true,\"ticks\":\"outside\",\"zeroline\":false,\"zerolinecolor\":\"rgb(36,36,36)\"},\"zaxis\":{\"backgroundcolor\":\"white\",\"gridcolor\":\"rgb(232,232,232)\",\"gridwidth\":2,\"linecolor\":\"rgb(36,36,36)\",\"showbackground\":true,\"showgrid\":false,\"showline\":true,\"ticks\":\"outside\",\"zeroline\":false,\"zerolinecolor\":\"rgb(36,36,36)\"}},\"shapedefaults\":{\"fillcolor\":\"black\",\"line\":{\"width\":0},\"opacity\":0.3},\"ternary\":{\"aaxis\":{\"gridcolor\":\"rgb(232,232,232)\",\"linecolor\":\"rgb(36,36,36)\",\"showgrid\":false,\"showline\":true,\"ticks\":\"outside\"},\"baxis\":{\"gridcolor\":\"rgb(232,232,232)\",\"linecolor\":\"rgb(36,36,36)\",\"showgrid\":false,\"showline\":true,\"ticks\":\"outside\"},\"bgcolor\":\"white\",\"caxis\":{\"gridcolor\":\"rgb(232,232,232)\",\"linecolor\":\"rgb(36,36,36)\",\"showgrid\":false,\"showline\":true,\"ticks\":\"outside\"}},\"title\":{\"x\":0.05},\"xaxis\":{\"automargin\":true,\"gridcolor\":\"rgb(232,232,232)\",\"linecolor\":\"rgb(36,36,36)\",\"showgrid\":false,\"showline\":true,\"ticks\":\"outside\",\"title\":{\"standoff\":15},\"zeroline\":false,\"zerolinecolor\":\"rgb(36,36,36)\"},\"yaxis\":{\"automargin\":true,\"gridcolor\":\"rgb(232,232,232)\",\"linecolor\":\"rgb(36,36,36)\",\"showgrid\":false,\"showline\":true,\"ticks\":\"outside\",\"title\":{\"standoff\":15},\"zeroline\":false,\"zerolinecolor\":\"rgb(36,36,36)\"}}},\"yaxis\":{\"visible\":false,\"range\":[0,21]},\"xaxis\":{\"title\":{\"text\":\"Number of Times Used\"}},\"height\":500,\"width\":700},                        {\"responsive\": true}                    ).then(function(){\n",
       "                            \n",
       "var gd = document.getElementById('52669177-bba4-488f-8ec4-408556b7bbae');\n",
       "var x = new MutationObserver(function (mutations, observer) {{\n",
       "        var display = window.getComputedStyle(gd).display;\n",
       "        if (!display || display === 'none') {{\n",
       "            console.log([gd, 'removed!']);\n",
       "            Plotly.purge(gd);\n",
       "            observer.disconnect();\n",
       "        }}\n",
       "}});\n",
       "\n",
       "// Listen for the removal of the full notebook cells\n",
       "var notebookContainer = gd.closest('#notebook-container');\n",
       "if (notebookContainer) {{\n",
       "    x.observe(notebookContainer, {childList: true});\n",
       "}}\n",
       "\n",
       "// Listen for the clearing of the current output cell\n",
       "var outputEl = gd.closest('.output');\n",
       "if (outputEl) {{\n",
       "    x.observe(outputEl, {childList: true});\n",
       "}}\n",
       "\n",
       "                        })                };                });            </script>        </div>"
      ]
     },
     "metadata": {},
     "output_type": "display_data"
    }
   ],
   "source": [
    "import plotly.graph_objects as go\n",
    "import plotly.io as pio\n",
    "import plotly.express as px\n",
    "import plotly\n",
    "\n",
    "fig = go.Figure()\n",
    "\n",
    "fig.add_trace(go.Scatter(y=emoji_counts_robyn['Emoji'],\n",
    "                x=emoji_counts_robyn['Count'],\n",
    "                name='Emoji Counts',\n",
    "                marker_color='white',\n",
    "                orientation='h',\n",
    "                text=emoji_counts['Emoji'],\n",
    "                textposition='top center',\n",
    "                mode='markers+text',\n",
    "                textfont=dict(size=20),\n",
    "                ))\n",
    "\n",
    "fig.update_yaxes(visible =False, range=[0, len(emoji_counts_robyn)+1])\n",
    "fig.update_xaxes(title='Number of Times Used')\n",
    "\n",
    "fig.update_layout(\n",
    "    template='simple_white', \n",
    "    height=len(emoji_counts_robyn)*25, width = 700)"
   ]
  },
  {
   "cell_type": "code",
   "execution_count": 343,
   "metadata": {},
   "outputs": [
    {
     "data": {
      "text/html": [
       "<div>\n",
       "<style scoped>\n",
       "    .dataframe tbody tr th:only-of-type {\n",
       "        vertical-align: middle;\n",
       "    }\n",
       "\n",
       "    .dataframe tbody tr th {\n",
       "        vertical-align: top;\n",
       "    }\n",
       "\n",
       "    .dataframe thead th {\n",
       "        text-align: right;\n",
       "    }\n",
       "</style>\n",
       "<table border=\"1\" class=\"dataframe\">\n",
       "  <thead>\n",
       "    <tr style=\"text-align: right;\">\n",
       "      <th></th>\n",
       "      <th>tokens</th>\n",
       "      <th>Bing_Liu_Score_robyn</th>\n",
       "    </tr>\n",
       "  </thead>\n",
       "  <tbody>\n",
       "    <tr>\n",
       "      <th>43488</th>\n",
       "      <td>if im following you  youre following me whos t...</td>\n",
       "      <td>0.000000</td>\n",
       "    </tr>\n",
       "    <tr>\n",
       "      <th>1833</th>\n",
       "      <td>hehim newtown 20 libra 🌈</td>\n",
       "      <td>0.000000</td>\n",
       "    </tr>\n",
       "    <tr>\n",
       "      <th>176647</th>\n",
       "      <td>se tutto va bene un giorno potró avere anche i...</td>\n",
       "      <td>0.000000</td>\n",
       "    </tr>\n",
       "    <tr>\n",
       "      <th>127754</th>\n",
       "      <td>director of global community epidemicsound🎶 co...</td>\n",
       "      <td>0.000000</td>\n",
       "    </tr>\n",
       "    <tr>\n",
       "      <th>286891</th>\n",
       "      <td>🌵#tijuaspower 🌊 amigo de tijuana🙂 i play 💙músi...</td>\n",
       "      <td>0.000000</td>\n",
       "    </tr>\n",
       "    <tr>\n",
       "      <th>48966</th>\n",
       "      <td>its a beautiful day to be alive💕 luxurious lif...</td>\n",
       "      <td>0.117647</td>\n",
       "    </tr>\n",
       "    <tr>\n",
       "      <th>67388</th>\n",
       "      <td>🏳️‍🌈 indiana drag queen wiccan hufflepuff gend...</td>\n",
       "      <td>-0.052632</td>\n",
       "    </tr>\n",
       "    <tr>\n",
       "      <th>32965</th>\n",
       "      <td>🥪</td>\n",
       "      <td>0.000000</td>\n",
       "    </tr>\n",
       "    <tr>\n",
       "      <th>86387</th>\n",
       "      <td>i like pro wrestling and harry styles💞</td>\n",
       "      <td>0.142857</td>\n",
       "    </tr>\n",
       "    <tr>\n",
       "      <th>193571</th>\n",
       "      <td>esas segundas oportunidades que se convierten ...</td>\n",
       "      <td>0.000000</td>\n",
       "    </tr>\n",
       "  </tbody>\n",
       "</table>\n",
       "</div>"
      ],
      "text/plain": [
       "                                                   tokens  \\\n",
       "43488   if im following you  youre following me whos t...   \n",
       "1833                             hehim newtown 20 libra 🌈   \n",
       "176647  se tutto va bene un giorno potró avere anche i...   \n",
       "127754  director of global community epidemicsound🎶 co...   \n",
       "286891  🌵#tijuaspower 🌊 amigo de tijuana🙂 i play 💙músi...   \n",
       "48966   its a beautiful day to be alive💕 luxurious lif...   \n",
       "67388   🏳️‍🌈 indiana drag queen wiccan hufflepuff gend...   \n",
       "32965                                                   🥪   \n",
       "86387              i like pro wrestling and harry styles💞   \n",
       "193571  esas segundas oportunidades que se convierten ...   \n",
       "\n",
       "        Bing_Liu_Score_robyn  \n",
       "43488               0.000000  \n",
       "1833                0.000000  \n",
       "176647              0.000000  \n",
       "127754              0.000000  \n",
       "286891              0.000000  \n",
       "48966               0.117647  \n",
       "67388              -0.052632  \n",
       "32965               0.000000  \n",
       "86387               0.142857  \n",
       "193571              0.000000  "
      ]
     },
     "execution_count": 343,
     "metadata": {},
     "output_type": "execute_result"
    }
   ],
   "source": [
    "df_twitter_robyn['Bing_Liu_Score_robyn'] = df_twitter_robyn['tokens'].apply(bing_liu_score)\n",
    "df_twitter_robyn[['tokens','Bing_Liu_Score_robyn']].sample(10, random_state=0)"
   ]
  },
  {
   "cell_type": "code",
   "execution_count": 346,
   "metadata": {},
   "outputs": [
    {
     "data": {
      "text/plain": [
       "1.159797252234227e-06"
      ]
     },
     "execution_count": 346,
     "metadata": {},
     "output_type": "execute_result"
    }
   ],
   "source": [
    "total_score_robyn = df_twitter_robyn['Bing_Liu_Score_robyn'].sum()\n",
    "total_score_robyn\n",
    "\n",
    "ave_sentiment_robyn = 0.414047619047619/357000\n",
    "ave_sentiment_robyn"
   ]
  },
  {
   "cell_type": "markdown",
   "metadata": {},
   "source": [
    "Q: What is the average sentiment of your two artists? \n",
    "\n",
    "A: Cher: 1.2546897546897545e-07\n",
    "   Robyn: 1.159797252234227e-06\n",
    "\n",
    "---\n",
    "\n",
    "Q: Which positive emoji is the most popular for each artist? Which negative emoji? \n",
    "\n",
    "A: See in the plot.\n",
    "\n"
   ]
  }
 ],
 "metadata": {
  "kernelspec": {
   "display_name": "Python 3",
   "language": "python",
   "name": "python3"
  },
  "language_info": {
   "codemirror_mode": {
    "name": "ipython",
    "version": 3
   },
   "file_extension": ".py",
   "mimetype": "text/x-python",
   "name": "python",
   "nbconvert_exporter": "python",
   "pygments_lexer": "ipython3",
   "version": "3.7.6"
  }
 },
 "nbformat": 4,
 "nbformat_minor": 5
}
